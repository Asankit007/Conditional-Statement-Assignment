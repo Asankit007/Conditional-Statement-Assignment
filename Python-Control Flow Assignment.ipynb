{
 "cells": [
  {
   "cell_type": "markdown",
   "id": "d9b9913e-213f-4edf-879e-50cabc47edef",
   "metadata": {},
   "source": [
    "Basic If-Else Statements:"
   ]
  },
  {
   "cell_type": "code",
   "execution_count": 2,
   "id": "93041dbe-19c3-4e08-96df-67e857b81c12",
   "metadata": {},
   "outputs": [],
   "source": [
    "## Solution - 1"
   ]
  },
  {
   "cell_type": "code",
   "execution_count": 12,
   "id": "900f58c8-69ae-41ce-8181-8a23e2bbb4cb",
   "metadata": {},
   "outputs": [
    {
     "name": "stdin",
     "output_type": "stream",
     "text": [
      "Enter a number:  3\n"
     ]
    },
    {
     "name": "stdout",
     "output_type": "stream",
     "text": [
      "The number is positive.\n"
     ]
    }
   ],
   "source": [
    "# Input the number\n",
    "number = float(input(\"Enter a number: \"))\n",
    "\n",
    "# Check if the number is positive, negative, or zero\n",
    "if number > 0:\n",
    "    print(\"The number is positive.\")\n",
    "elif number < 0:\n",
    "    print(\"The number is negative.\")\n",
    "else:\n",
    "    print(\"The number is zero.\")\n"
   ]
  },
  {
   "cell_type": "code",
   "execution_count": 3,
   "id": "501e7fd4-33b8-44d4-a8c1-22376fa495ef",
   "metadata": {},
   "outputs": [],
   "source": [
    "## Solution - 2"
   ]
  },
  {
   "cell_type": "code",
   "execution_count": 13,
   "id": "e6fad470-d042-414e-8ae3-9956b97900d1",
   "metadata": {},
   "outputs": [
    {
     "name": "stdin",
     "output_type": "stream",
     "text": [
      "Enter your age:  12\n"
     ]
    },
    {
     "name": "stdout",
     "output_type": "stream",
     "text": [
      "You are not eligible to vote yet.\n"
     ]
    }
   ],
   "source": [
    "# Input the age\n",
    "age = int(input(\"Enter your age: \"))\n",
    "\n",
    "# Check if the person is eligible to vote\n",
    "if age >= 18:\n",
    "    print(\"You are eligible to vote.\")\n",
    "else:\n",
    "    print(\"You are not eligible to vote yet.\")\n"
   ]
  },
  {
   "cell_type": "code",
   "execution_count": 4,
   "id": "fbc1cfb9-a806-4eb6-a18d-edf7bd90ea6b",
   "metadata": {},
   "outputs": [],
   "source": [
    "## Solution - 3"
   ]
  },
  {
   "cell_type": "code",
   "execution_count": 14,
   "id": "57ca8d79-e231-441f-8a0b-5e3705ebe261",
   "metadata": {},
   "outputs": [
    {
     "name": "stdin",
     "output_type": "stream",
     "text": [
      "Enter the first number:  78\n",
      "Enter the second number:  77\n"
     ]
    },
    {
     "name": "stdout",
     "output_type": "stream",
     "text": [
      "The maximum number is: 78.0\n"
     ]
    }
   ],
   "source": [
    "# Input two numbers\n",
    "a = float(input(\"Enter the first number: \"))\n",
    "b = float(input(\"Enter the second number: \"))\n",
    "\n",
    "# Find the maximum using if-else statements\n",
    "if a > b:\n",
    "    print(\"The maximum number is:\", a)\n",
    "else:\n",
    "    print(\"The maximum number is:\", b)\n"
   ]
  },
  {
   "cell_type": "code",
   "execution_count": 5,
   "id": "9d08be77-c8ba-481d-a3b7-b475825b99f2",
   "metadata": {},
   "outputs": [],
   "source": [
    "## Solution - 4"
   ]
  },
  {
   "cell_type": "code",
   "execution_count": 15,
   "id": "1bd2b606-7e84-4a53-85c8-57f33f517b6b",
   "metadata": {},
   "outputs": [
    {
     "name": "stdin",
     "output_type": "stream",
     "text": [
      "Enter a year:  2022\n"
     ]
    },
    {
     "name": "stdout",
     "output_type": "stream",
     "text": [
      "The year 2022 is not a leap year.\n"
     ]
    }
   ],
   "source": [
    "# Input the year\n",
    "year = int(input(\"Enter a year: \"))\n",
    "\n",
    "# Check if the year is a leap year\n",
    "if (year % 4 == 0 and year % 100 != 0) or (year % 400 == 0):\n",
    "    print(\"The year\", year, \"is a leap year.\")\n",
    "else:\n",
    "    print(\"The year\", year, \"is not a leap year.\")\n"
   ]
  },
  {
   "cell_type": "code",
   "execution_count": 6,
   "id": "b28b09b7-ab05-4f7e-a371-7b970407439e",
   "metadata": {},
   "outputs": [],
   "source": [
    "## Solution - 5"
   ]
  },
  {
   "cell_type": "code",
   "execution_count": 17,
   "id": "dcbce81b-5e32-49e7-9f86-e828b189885e",
   "metadata": {},
   "outputs": [
    {
     "name": "stdin",
     "output_type": "stream",
     "text": [
      "Enter a character:  a\n"
     ]
    },
    {
     "name": "stdout",
     "output_type": "stream",
     "text": [
      "The character a is a vowel.\n"
     ]
    }
   ],
   "source": [
    "# Input a character\n",
    "char = input(\"Enter a character: \")\n",
    "\n",
    "# Check if the character is a vowel or a consonant\n",
    "if char.lower() in 'aeiou':\n",
    "    print(\"The character\", char, \"is a vowel.\")\n",
    "else:\n",
    "    print(\"The character\", char, \"is a consonant.\")\n"
   ]
  },
  {
   "cell_type": "code",
   "execution_count": 7,
   "id": "93339197-750b-4dc9-873a-3bd9d6e01ff3",
   "metadata": {},
   "outputs": [],
   "source": [
    "## Solution - 6"
   ]
  },
  {
   "cell_type": "code",
   "execution_count": 18,
   "id": "df8320fd-500c-42c5-9aca-61eafe8edeed",
   "metadata": {},
   "outputs": [
    {
     "name": "stdin",
     "output_type": "stream",
     "text": [
      "Enter a number:  78\n"
     ]
    },
    {
     "name": "stdout",
     "output_type": "stream",
     "text": [
      "The number is even.\n"
     ]
    }
   ],
   "source": [
    "# Input the number\n",
    "number = int(input(\"Enter a number: \"))\n",
    "\n",
    "# Check if the number is even or odd\n",
    "if number % 2 == 0:\n",
    "    print(\"The number is even.\")\n",
    "else:\n",
    "    print(\"The number is odd.\")\n"
   ]
  },
  {
   "cell_type": "code",
   "execution_count": 8,
   "id": "03b0207c-3e13-4173-9bd9-6480834754c1",
   "metadata": {},
   "outputs": [],
   "source": [
    "## Solution - 7"
   ]
  },
  {
   "cell_type": "code",
   "execution_count": 19,
   "id": "aba0f51a-63bd-4655-9364-b52fb8ac2b79",
   "metadata": {},
   "outputs": [
    {
     "name": "stdin",
     "output_type": "stream",
     "text": [
      "Enter a number:  78\n"
     ]
    },
    {
     "name": "stdout",
     "output_type": "stream",
     "text": [
      "The absolute value of 78.0 is: 78.0\n"
     ]
    }
   ],
   "source": [
    "# Input the number\n",
    "number = float(input(\"Enter a number: \"))\n",
    "\n",
    "# Calculate the absolute value\n",
    "absolute_value = number if number >= 0 else -number\n",
    "\n",
    "# Print the absolute value\n",
    "print(\"The absolute value of\", number, \"is:\", absolute_value)\n"
   ]
  },
  {
   "cell_type": "code",
   "execution_count": 9,
   "id": "d0741c39-5b94-407a-96c7-84e970c9d9b4",
   "metadata": {},
   "outputs": [],
   "source": [
    "## Solution - 8"
   ]
  },
  {
   "cell_type": "code",
   "execution_count": 20,
   "id": "886c9178-d963-4270-a0fc-a1066f8b3dc2",
   "metadata": {},
   "outputs": [
    {
     "name": "stdin",
     "output_type": "stream",
     "text": [
      "Enter the first number:  12\n",
      "Enter the second number:  33\n",
      "Enter the third number:  45\n"
     ]
    },
    {
     "name": "stdout",
     "output_type": "stream",
     "text": [
      "The largest number is: 45.0\n"
     ]
    }
   ],
   "source": [
    "# Input three numbers\n",
    "a = float(input(\"Enter the first number: \"))\n",
    "b = float(input(\"Enter the second number: \"))\n",
    "c = float(input(\"Enter the third number: \"))\n",
    "\n",
    "# Find the largest number using if-else statements\n",
    "if a >= b and a >= c:\n",
    "    print(\"The largest number is:\", a)\n",
    "elif b >= a and b >= c:\n",
    "    print(\"The largest number is:\", b)\n",
    "else:\n",
    "    print(\"The largest number is:\", c)\n"
   ]
  },
  {
   "cell_type": "code",
   "execution_count": 10,
   "id": "bc15bf88-13cf-459d-95a4-52b9ccffcf78",
   "metadata": {},
   "outputs": [],
   "source": [
    "## Solution - 9"
   ]
  },
  {
   "cell_type": "code",
   "execution_count": 21,
   "id": "d57df39a-c16e-46bd-87e2-dbb643001191",
   "metadata": {},
   "outputs": [
    {
     "name": "stdin",
     "output_type": "stream",
     "text": [
      "Enter a string:  ankit\n"
     ]
    },
    {
     "name": "stdout",
     "output_type": "stream",
     "text": [
      "The string is not a palindrome.\n"
     ]
    }
   ],
   "source": [
    "# Input the string\n",
    "string = input(\"Enter a string: \")\n",
    "\n",
    "# Check if the string is a palindrome\n",
    "if string == string[::-1]:\n",
    "    print(\"The string is a palindrome.\")\n",
    "else:\n",
    "    print(\"The string is not a palindrome.\")\n"
   ]
  },
  {
   "cell_type": "code",
   "execution_count": 11,
   "id": "842361ff-6c26-497a-9039-4a713c53c487",
   "metadata": {},
   "outputs": [],
   "source": [
    "## Solution - 10"
   ]
  },
  {
   "cell_type": "code",
   "execution_count": null,
   "id": "a28148a7-0c06-4a72-ba5a-4d2882d6853d",
   "metadata": {},
   "outputs": [],
   "source": [
    "# Input the score\n",
    "score = float(input(\"Enter the student's score: \"))\n",
    "\n",
    "# Determine the grade based on the score using if-elif-else statements\n",
    "if score >= 90:\n",
    "    grade = 'A'\n",
    "elif score >= 80:\n",
    "    grade = 'B'\n",
    "elif score >= 70:\n",
    "    grade = 'C'\n",
    "elif score >= 60:\n",
    "    grade = 'D'\n",
    "else:\n",
    "    grade = 'F'\n",
    "\n",
    "# Print the grade\n",
    "print(\"The student's grade is:\", grade)\n"
   ]
  },
  {
   "cell_type": "markdown",
   "id": "4432be70-64cd-4b98-8f69-b68caede777c",
   "metadata": {},
   "source": [
    "Nested If-Else Statements:"
   ]
  },
  {
   "cell_type": "code",
   "execution_count": 23,
   "id": "91ddc1c8-00f6-42c9-89f2-98cecc5c99fc",
   "metadata": {},
   "outputs": [],
   "source": [
    "## Solution - 11"
   ]
  },
  {
   "cell_type": "code",
   "execution_count": 34,
   "id": "a712dcf3-806b-41f0-a670-8c62d5a39f0e",
   "metadata": {},
   "outputs": [
    {
     "name": "stdin",
     "output_type": "stream",
     "text": [
      "Enter the first number:  12\n",
      "Enter the second number:  13\n",
      "Enter the third number:  14\n"
     ]
    },
    {
     "name": "stdout",
     "output_type": "stream",
     "text": [
      "The largest number is: 14.0\n"
     ]
    }
   ],
   "source": [
    "# Input three numbers\n",
    "a = float(input(\"Enter the first number: \"))\n",
    "b = float(input(\"Enter the second number: \"))\n",
    "c = float(input(\"Enter the third number: \"))\n",
    "\n",
    "# Find the largest number using nested if-else statements\n",
    "if a >= b:\n",
    "    if a >= c:\n",
    "        largest = a\n",
    "    else:\n",
    "        largest = c\n",
    "else:\n",
    "    if b >= c:\n",
    "        largest = b\n",
    "    else:\n",
    "        largest = c\n",
    "\n",
    "# Print the largest number\n",
    "print(\"The largest number is:\", largest)\n"
   ]
  },
  {
   "cell_type": "code",
   "execution_count": 24,
   "id": "9236aea2-ffeb-4620-8ff5-c3b9b51af284",
   "metadata": {},
   "outputs": [],
   "source": [
    "## Solution - 12"
   ]
  },
  {
   "cell_type": "code",
   "execution_count": 35,
   "id": "d0e1cfb3-fdc7-4a09-889c-9a1ea96c9beb",
   "metadata": {},
   "outputs": [
    {
     "name": "stdin",
     "output_type": "stream",
     "text": [
      "Enter the length of side a:  4\n",
      "Enter the length of side b:  5\n",
      "Enter the length of side c:  7\n"
     ]
    },
    {
     "name": "stdout",
     "output_type": "stream",
     "text": [
      "The triangle is: scalene\n"
     ]
    }
   ],
   "source": [
    "# Input the sides of the triangle\n",
    "a = float(input(\"Enter the length of side a: \"))\n",
    "b = float(input(\"Enter the length of side b: \"))\n",
    "c = float(input(\"Enter the length of side c: \"))\n",
    "\n",
    "# Determine the type of triangle using if-elif-else statements\n",
    "if a == b == c:\n",
    "    triangle_type = \"equilateral\"\n",
    "elif a == b or b == c or a == c:\n",
    "    triangle_type = \"isosceles\"\n",
    "else:\n",
    "    triangle_type = \"scalene\"\n",
    "\n",
    "# Print the type of triangle\n",
    "print(\"The triangle is:\", triangle_type)\n"
   ]
  },
  {
   "cell_type": "code",
   "execution_count": 25,
   "id": "aa01bcea-050b-45b3-890c-d899b96e827f",
   "metadata": {},
   "outputs": [],
   "source": [
    "## Solution - 13"
   ]
  },
  {
   "cell_type": "code",
   "execution_count": 36,
   "id": "295a3e4a-2d04-48f2-bab6-c24dea687925",
   "metadata": {},
   "outputs": [
    {
     "name": "stdin",
     "output_type": "stream",
     "text": [
      "Enter a year:  2022\n"
     ]
    },
    {
     "name": "stdout",
     "output_type": "stream",
     "text": [
      "2022 is not a leap year.\n",
      "2022 is not a century year.\n"
     ]
    }
   ],
   "source": [
    "# Input the year\n",
    "year = int(input(\"Enter a year: \"))\n",
    "\n",
    "# Check if the year is a leap year\n",
    "is_leap_year = (year % 4 == 0 and year % 100 != 0) or (year % 400 == 0)\n",
    "\n",
    "# Check if the year is a century year\n",
    "is_century_year = year % 100 == 0\n",
    "\n",
    "# Print the results\n",
    "if is_leap_year:\n",
    "    print(year, \"is a leap year.\")\n",
    "else:\n",
    "    print(year, \"is not a leap year.\")\n",
    "\n",
    "if is_century_year:\n",
    "    print(year, \"is a century year.\")\n",
    "else:\n",
    "    print(year, \"is not a century year.\")\n"
   ]
  },
  {
   "cell_type": "code",
   "execution_count": 26,
   "id": "150a8a3c-bcc6-4e2f-a71a-0fa84ab9cd56",
   "metadata": {},
   "outputs": [],
   "source": [
    "## Solution - 14"
   ]
  },
  {
   "cell_type": "code",
   "execution_count": 37,
   "id": "d902b4d0-c8ed-4f02-946a-39e794eb3d18",
   "metadata": {},
   "outputs": [
    {
     "name": "stdin",
     "output_type": "stream",
     "text": [
      "Enter a number:  12\n"
     ]
    },
    {
     "name": "stdout",
     "output_type": "stream",
     "text": [
      "The number is positive.\n"
     ]
    }
   ],
   "source": [
    "# Input the number\n",
    "number = float(input(\"Enter a number: \"))\n",
    "\n",
    "# Check if the number is positive, negative, or zero\n",
    "if number > 0:\n",
    "    print(\"The number is positive.\")\n",
    "elif number < 0:\n",
    "    print(\"The number is negative.\")\n",
    "else:\n",
    "    print(\"The number is zero.\")\n"
   ]
  },
  {
   "cell_type": "code",
   "execution_count": 27,
   "id": "4a098ccb-8846-457c-8195-ae86473ba208",
   "metadata": {},
   "outputs": [],
   "source": [
    "## Solution - 15"
   ]
  },
  {
   "cell_type": "code",
   "execution_count": 38,
   "id": "082471c2-caf9-403f-a808-f7e0efefddbd",
   "metadata": {},
   "outputs": [
    {
     "name": "stdin",
     "output_type": "stream",
     "text": [
      "Enter your age:  33\n"
     ]
    },
    {
     "name": "stdout",
     "output_type": "stream",
     "text": [
      "You are not a teenager.\n"
     ]
    }
   ],
   "source": [
    "# Input the age\n",
    "age = int(input(\"Enter your age: \"))\n",
    "\n",
    "# Check if the person is a teenager\n",
    "if age >= 13 and age <= 19:\n",
    "    print(\"You are a teenager.\")\n",
    "else:\n",
    "    print(\"You are not a teenager.\")\n"
   ]
  },
  {
   "cell_type": "code",
   "execution_count": 28,
   "id": "2dcc26be-d31d-4903-91f8-22b8f365e02a",
   "metadata": {},
   "outputs": [],
   "source": [
    "## Solution - 16"
   ]
  },
  {
   "cell_type": "code",
   "execution_count": 39,
   "id": "933c3ce2-0906-48d6-83d3-8701fe42f784",
   "metadata": {},
   "outputs": [
    {
     "name": "stdin",
     "output_type": "stream",
     "text": [
      "Enter the angle measure:  90\n"
     ]
    },
    {
     "name": "stdout",
     "output_type": "stream",
     "text": [
      "The angle is: right\n"
     ]
    }
   ],
   "source": [
    "# Input the angle measure\n",
    "angle = float(input(\"Enter the angle measure: \"))\n",
    "\n",
    "# Determine the type of angle using if-elif-else statements\n",
    "if angle < 90:\n",
    "    angle_type = \"acute\"\n",
    "elif angle == 90:\n",
    "    angle_type = \"right\"\n",
    "else:\n",
    "    angle_type = \"obtuse\"\n",
    "\n",
    "# Print the type of angle\n",
    "print(\"The angle is:\", angle_type)\n"
   ]
  },
  {
   "cell_type": "code",
   "execution_count": 29,
   "id": "d516a6a5-0656-4a41-9938-07287126528b",
   "metadata": {},
   "outputs": [],
   "source": [
    "## Solution - 17"
   ]
  },
  {
   "cell_type": "code",
   "execution_count": 40,
   "id": "f3f12ca4-c262-41f9-b8e6-e0424f0d055c",
   "metadata": {},
   "outputs": [
    {
     "name": "stdin",
     "output_type": "stream",
     "text": [
      "Enter the coefficient of x^2:  2\n",
      "Enter the coefficient of x:  3\n",
      "Enter the constant term:  4\n"
     ]
    },
    {
     "name": "stdout",
     "output_type": "stream",
     "text": [
      "The roots are complex: -0.75 + 1.1989578808281798 i and -0.75 - 1.1989578808281798 i\n"
     ]
    }
   ],
   "source": [
    "import math\n",
    "\n",
    "# Input the coefficients of the quadratic equation\n",
    "a = float(input(\"Enter the coefficient of x^2: \"))\n",
    "b = float(input(\"Enter the coefficient of x: \"))\n",
    "c = float(input(\"Enter the constant term: \"))\n",
    "\n",
    "# Calculate the discriminant\n",
    "discriminant = b**2 - 4*a*c\n",
    "\n",
    "# Calculate the roots using if-elif-else statements\n",
    "if discriminant > 0:\n",
    "    root1 = (-b + math.sqrt(discriminant)) / (2*a)\n",
    "    root2 = (-b - math.sqrt(discriminant)) / (2*a)\n",
    "    print(\"The roots are real and distinct:\", root1, \"and\", root2)\n",
    "elif discriminant == 0:\n",
    "    root = -b / (2*a)\n",
    "    print(\"The root is real and repeated:\", root)\n",
    "else:\n",
    "    real_part = -b / (2*a)\n",
    "    imaginary_part = math.sqrt(-discriminant) / (2*a)\n",
    "    print(\"The roots are complex:\", real_part, \"+\", imaginary_part, \"i and\", real_part, \"-\", imaginary_part, \"i\")\n"
   ]
  },
  {
   "cell_type": "code",
   "execution_count": 30,
   "id": "1e77d37c-08cb-4be7-aec6-e23e2830cad3",
   "metadata": {},
   "outputs": [],
   "source": [
    "## Solution - 18"
   ]
  },
  {
   "cell_type": "code",
   "execution_count": 41,
   "id": "da7c655e-adae-4458-a7f3-f409fd2d2ca4",
   "metadata": {},
   "outputs": [
    {
     "name": "stdin",
     "output_type": "stream",
     "text": [
      "Enter the day number (1 for Monday, 2 for Tuesday, etc.):  5\n"
     ]
    },
    {
     "name": "stdout",
     "output_type": "stream",
     "text": [
      "The day is: Friday\n"
     ]
    }
   ],
   "source": [
    "# Input the day number\n",
    "day_number = int(input(\"Enter the day number (1 for Monday, 2 for Tuesday, etc.): \"))\n",
    "\n",
    "# Determine the day of the week using if-elif-else statements\n",
    "if day_number == 1:\n",
    "    day = \"Monday\"\n",
    "elif day_number == 2:\n",
    "    day = \"Tuesday\"\n",
    "elif day_number == 3:\n",
    "    day = \"Wednesday\"\n",
    "elif day_number == 4:\n",
    "    day = \"Thursday\"\n",
    "elif day_number == 5:\n",
    "    day = \"Friday\"\n",
    "elif day_number == 6:\n",
    "    day = \"Saturday\"\n",
    "elif day_number == 7:\n",
    "    day = \"Sunday\"\n",
    "else:\n",
    "    day = \"Invalid input\"\n",
    "\n",
    "# Print the day of the week\n",
    "print(\"The day is:\", day)\n",
    "\n"
   ]
  },
  {
   "cell_type": "code",
   "execution_count": 31,
   "id": "99e896b5-1882-44ec-96c3-2df882bbbe3b",
   "metadata": {},
   "outputs": [],
   "source": [
    "## Solution - 19"
   ]
  },
  {
   "cell_type": "code",
   "execution_count": 42,
   "id": "3dca9a09-d96f-4aad-8a6a-943b9c35496c",
   "metadata": {},
   "outputs": [
    {
     "name": "stdin",
     "output_type": "stream",
     "text": [
      "Enter a year:  2023\n"
     ]
    },
    {
     "name": "stdout",
     "output_type": "stream",
     "text": [
      "The year 2023 is not a leap year and is not evenly divisible by 400.\n"
     ]
    }
   ],
   "source": [
    "# Input the year\n",
    "year = int(input(\"Enter a year: \"))\n",
    "\n",
    "# Check if the year is a leap year and if it is evenly divisible by 400 using if-elif-else statements\n",
    "if year % 400 == 0:\n",
    "    print(\"The year\", year, \"is a leap year and is evenly divisible by 400.\")\n",
    "elif year % 100 == 0:\n",
    "    print(\"The year\", year, \"is not a leap year but is evenly divisible by 100.\")\n",
    "elif year % 4 == 0:\n",
    "    print(\"The year\", year, \"is a leap year but is not evenly divisible by 400.\")\n",
    "else:\n",
    "    print(\"The year\", year, \"is not a leap year and is not evenly divisible by 400.\")\n"
   ]
  },
  {
   "cell_type": "code",
   "execution_count": 33,
   "id": "f752946a-7a11-4dd8-940c-043bdb0ee12d",
   "metadata": {},
   "outputs": [],
   "source": [
    "## Solution - 20"
   ]
  },
  {
   "cell_type": "code",
   "execution_count": 43,
   "id": "50b440e9-597e-4568-b326-a41900756546",
   "metadata": {},
   "outputs": [
    {
     "name": "stdin",
     "output_type": "stream",
     "text": [
      "Enter a number:  44\n"
     ]
    },
    {
     "name": "stdout",
     "output_type": "stream",
     "text": [
      "44 is not a prime number.\n"
     ]
    }
   ],
   "source": [
    "# Input the number\n",
    "num = int(input(\"Enter a number: \"))\n",
    "\n",
    "# Check if the number is prime using nested if-else statements\n",
    "if num > 1:\n",
    "    for i in range(2, num):\n",
    "        if (num % i) == 0:\n",
    "            print(num, \"is not a prime number.\")\n",
    "            break\n",
    "    else:\n",
    "        print(num, \"is a prime number.\")\n",
    "else:\n",
    "    print(num, \"is not a prime number.\")\n"
   ]
  },
  {
   "cell_type": "markdown",
   "id": "b35a1659-3c6e-423b-ac0a-35ad55b06723",
   "metadata": {},
   "source": [
    "Elif Statements:"
   ]
  },
  {
   "cell_type": "code",
   "execution_count": 44,
   "id": "98c82f17-5bd7-48e2-8c5d-e48e5404adac",
   "metadata": {},
   "outputs": [],
   "source": [
    "## Solution - 21"
   ]
  },
  {
   "cell_type": "code",
   "execution_count": 54,
   "id": "f19d8478-3ecc-41dc-a0b1-939af5d3ecb2",
   "metadata": {},
   "outputs": [
    {
     "name": "stdin",
     "output_type": "stream",
     "text": [
      "Enter the student's score:  23\n"
     ]
    },
    {
     "name": "stdout",
     "output_type": "stream",
     "text": [
      "The student's grade is: F\n"
     ]
    }
   ],
   "source": [
    "# Input the score\n",
    "score = float(input(\"Enter the student's score: \"))\n",
    "\n",
    "# Assign grades based on the score using elif statements\n",
    "if score >= 90:\n",
    "    grade = 'A'\n",
    "elif score >= 80:\n",
    "    grade = 'B'\n",
    "elif score >= 70:\n",
    "    grade = 'C'\n",
    "elif score >= 60:\n",
    "    grade = 'D'\n",
    "else:\n",
    "    grade = 'F'\n",
    "\n",
    "# Print the grade\n",
    "print(\"The student's grade is:\", grade)\n"
   ]
  },
  {
   "cell_type": "code",
   "execution_count": 45,
   "id": "15eef4a3-9226-4f17-a244-9582f28f4053",
   "metadata": {},
   "outputs": [],
   "source": [
    "## Solution - 22"
   ]
  },
  {
   "cell_type": "code",
   "execution_count": 55,
   "id": "a76d5703-a380-47db-a393-51a5ae7b4e55",
   "metadata": {},
   "outputs": [
    {
     "name": "stdin",
     "output_type": "stream",
     "text": [
      "Enter the first angle:  90\n",
      "Enter the second angle:  90\n",
      "Enter the third angle:  90\n"
     ]
    },
    {
     "name": "stdout",
     "output_type": "stream",
     "text": [
      "Invalid triangle.\n"
     ]
    }
   ],
   "source": [
    "# Input the angles of the triangle\n",
    "angle1 = int(input(\"Enter the first angle: \"))\n",
    "angle2 = int(input(\"Enter the second angle: \"))\n",
    "angle3 = int(input(\"Enter the third angle: \"))\n",
    "\n",
    "# Determine the type of triangle using if-elif-else statements\n",
    "if angle1 + angle2 + angle3 == 180:\n",
    "    if angle1 == angle2 == angle3:\n",
    "        print(\"The triangle is equilateral.\")\n",
    "    elif angle1 == angle2 or angle2 == angle3 or angle1 == angle3:\n",
    "        print(\"The triangle is isosceles.\")\n",
    "    else:\n",
    "        print(\"The triangle is scalene.\")\n",
    "else:\n",
    "    print(\"Invalid triangle.\")\n"
   ]
  },
  {
   "cell_type": "code",
   "execution_count": 46,
   "id": "a5a24f27-59e4-4d6e-b576-f06ee6c727d9",
   "metadata": {},
   "outputs": [],
   "source": [
    "## Solution - 23"
   ]
  },
  {
   "cell_type": "code",
   "execution_count": 56,
   "id": "d1f9c625-869e-4284-ab1e-fb2b68da5b58",
   "metadata": {},
   "outputs": [
    {
     "name": "stdin",
     "output_type": "stream",
     "text": [
      "Enter your weight in kilograms:  23\n",
      "Enter your height in meters:  4\n"
     ]
    },
    {
     "name": "stdout",
     "output_type": "stream",
     "text": [
      "Your BMI category is: underweight\n"
     ]
    }
   ],
   "source": [
    "# Input the weight and height\n",
    "weight = float(input(\"Enter your weight in kilograms: \"))\n",
    "height = float(input(\"Enter your height in meters: \"))\n",
    "\n",
    "# Calculate the BMI\n",
    "bmi = weight / (height**2)\n",
    "\n",
    "# Categorize the BMI using elif statements\n",
    "if bmi < 18.5:\n",
    "    category = \"underweight\"\n",
    "elif bmi < 25:\n",
    "    category = \"normal\"\n",
    "elif bmi < 30:\n",
    "    category = \"overweight\"\n",
    "else:\n",
    "    category = \"obese\"\n",
    "\n",
    "# Print the BMI category\n",
    "print(\"Your BMI category is:\", category)\n"
   ]
  },
  {
   "cell_type": "code",
   "execution_count": 47,
   "id": "b530f31d-e579-4547-be5c-25be2b51f00f",
   "metadata": {},
   "outputs": [],
   "source": [
    "## Solution - 24"
   ]
  },
  {
   "cell_type": "code",
   "execution_count": 57,
   "id": "320a53b4-a4a8-45ce-832f-f1a593e264dc",
   "metadata": {},
   "outputs": [
    {
     "name": "stdin",
     "output_type": "stream",
     "text": [
      "Enter a number:  3\n"
     ]
    },
    {
     "name": "stdout",
     "output_type": "stream",
     "text": [
      "The number is positive.\n"
     ]
    }
   ],
   "source": [
    "# Input the number\n",
    "num = float(input(\"Enter a number: \"))\n",
    "\n",
    "# Determine if the number is positive, negative, or zero using elif statements\n",
    "if num > 0:\n",
    "    print(\"The number is positive.\")\n",
    "elif num < 0:\n",
    "    print(\"The number is negative.\")\n",
    "else:\n",
    "    print(\"The number is zero.\")\n"
   ]
  },
  {
   "cell_type": "code",
   "execution_count": 48,
   "id": "85416a12-e968-47f3-ae8e-dd75a39434b1",
   "metadata": {},
   "outputs": [],
   "source": [
    "## Solution - 25"
   ]
  },
  {
   "cell_type": "code",
   "execution_count": 58,
   "id": "c89c3be7-7129-4747-8935-506929e42722",
   "metadata": {},
   "outputs": [
    {
     "name": "stdin",
     "output_type": "stream",
     "text": [
      "Enter a character:  an\n"
     ]
    },
    {
     "name": "stdout",
     "output_type": "stream",
     "text": [
      "The character is lowercase.\n"
     ]
    }
   ],
   "source": [
    "# Input a character\n",
    "char = input(\"Enter a character: \")\n",
    "\n",
    "# Determine the type of character using elif statements\n",
    "if char.isupper():\n",
    "    print(\"The character is uppercase.\")\n",
    "elif char.islower():\n",
    "    print(\"The character is lowercase.\")\n",
    "else:\n",
    "    print(\"The character is a special character.\")\n"
   ]
  },
  {
   "cell_type": "code",
   "execution_count": 49,
   "id": "4bad9e64-1574-42c8-8499-d12fb22622ef",
   "metadata": {},
   "outputs": [],
   "source": [
    "## Solution - 26"
   ]
  },
  {
   "cell_type": "code",
   "execution_count": 59,
   "id": "e2c93aac-e714-4398-a789-8ef27e2bd2bc",
   "metadata": {},
   "outputs": [
    {
     "name": "stdin",
     "output_type": "stream",
     "text": [
      "Enter the purchase amount:  23\n"
     ]
    },
    {
     "name": "stdout",
     "output_type": "stream",
     "text": [
      "The discounted price is: 23.0\n"
     ]
    }
   ],
   "source": [
    "# Input the purchase amount\n",
    "amount = float(input(\"Enter the purchase amount: \"))\n",
    "\n",
    "# Calculate the discounted price using elif statements\n",
    "if amount >= 1000:\n",
    "    discount = 0.1\n",
    "elif amount >= 500:\n",
    "    discount = 0.05\n",
    "else:\n",
    "    discount = 0\n",
    "\n",
    "discounted_price = amount - (amount * discount)\n",
    "\n",
    "# Print the discounted price\n",
    "print(\"The discounted price is:\", discounted_price)\n"
   ]
  },
  {
   "cell_type": "code",
   "execution_count": 50,
   "id": "a2b07a0e-edeb-4e4d-a7eb-d7c627a972b6",
   "metadata": {},
   "outputs": [],
   "source": [
    "## Solution - 27"
   ]
  },
  {
   "cell_type": "code",
   "execution_count": 60,
   "id": "7148cf10-3152-40c2-9ce3-0b423242ac59",
   "metadata": {},
   "outputs": [
    {
     "name": "stdin",
     "output_type": "stream",
     "text": [
      "Enter the electricity consumption in units:  17\n"
     ]
    },
    {
     "name": "stdout",
     "output_type": "stream",
     "text": [
      "The electricity bill is: 25.5\n"
     ]
    }
   ],
   "source": [
    "# Input the electricity consumption in units\n",
    "units = float(input(\"Enter the electricity consumption in units: \"))\n",
    "\n",
    "# Calculate the electricity bill based on different slabs using elif statements\n",
    "if units <= 100:\n",
    "    rate = 1.5\n",
    "elif units <= 200:\n",
    "    rate = 2.5\n",
    "elif units <= 300:\n",
    "    rate = 3.5\n",
    "else:\n",
    "    rate = 4.5\n",
    "\n",
    "bill = units * rate\n",
    "\n",
    "# Print the electricity bill\n",
    "print(\"The electricity bill is:\", bill)\n"
   ]
  },
  {
   "cell_type": "code",
   "execution_count": 51,
   "id": "6151758f-a316-4395-a215-6eb5a7f10ef7",
   "metadata": {},
   "outputs": [],
   "source": [
    "## Solution - 28"
   ]
  },
  {
   "cell_type": "code",
   "execution_count": 61,
   "id": "0d3d62cd-0809-4b58-bb31-9d17abd6c051",
   "metadata": {},
   "outputs": [
    {
     "name": "stdin",
     "output_type": "stream",
     "text": [
      "Enter the first angle:  67\n",
      "Enter the second angle:  23\n",
      "Enter the third angle:  44\n",
      "Enter the fourth angle:  23\n",
      "Enter the length of side 1:  2\n",
      "Enter the length of side 2:  56\n",
      "Enter the length of side 3:  77\n",
      "Enter the length of side 4:  55\n"
     ]
    },
    {
     "name": "stdout",
     "output_type": "stream",
     "text": [
      "The quadrilateral is neither a rectangle nor a square.\n"
     ]
    }
   ],
   "source": [
    "# Input the angles and sides of the quadrilateral\n",
    "angle1 = int(input(\"Enter the first angle: \"))\n",
    "angle2 = int(input(\"Enter the second angle: \"))\n",
    "angle3 = int(input(\"Enter the third angle: \"))\n",
    "angle4 = int(input(\"Enter the fourth angle: \"))\n",
    "side1 = float(input(\"Enter the length of side 1: \"))\n",
    "side2 = float(input(\"Enter the length of side 2: \"))\n",
    "side3 = float(input(\"Enter the length of side 3: \"))\n",
    "side4 = float(input(\"Enter the length of side 4: \"))\n",
    "\n",
    "# Determine the type of quadrilateral using if-elif-else statements\n",
    "if angle1 == angle2 == angle3 == angle4 == 90:\n",
    "    print(\"The quadrilateral is a rectangle.\")\n",
    "elif side1 == side2 == side3 == side4 and angle1 == angle2 == angle3 == angle4:\n",
    "    print(\"The quadrilateral is a square.\")\n",
    "else:\n",
    "    print(\"The quadrilateral is neither a rectangle nor a square.\")\n"
   ]
  },
  {
   "cell_type": "code",
   "execution_count": 52,
   "id": "1b11d390-b966-405d-955b-c5ccae8375d4",
   "metadata": {},
   "outputs": [],
   "source": [
    "## Solution - 29"
   ]
  },
  {
   "cell_type": "code",
   "execution_count": 62,
   "id": "2c97e1ce-b5f1-494d-8389-1166e557904e",
   "metadata": {},
   "outputs": [
    {
     "name": "stdin",
     "output_type": "stream",
     "text": [
      "Enter the month (1-12):  4\n"
     ]
    },
    {
     "name": "stdout",
     "output_type": "stream",
     "text": [
      "The season is: spring\n"
     ]
    }
   ],
   "source": [
    "# Input the month\n",
    "month = int(input(\"Enter the month (1-12): \"))\n",
    "\n",
    "# Determine the season based on the month using elif statements\n",
    "if month in [3, 4, 5]:\n",
    "    season = \"spring\"\n",
    "elif month in [6, 7, 8]:\n",
    "    season = \"summer\"\n",
    "elif month in [9, 10, 11]:\n",
    "    season = \"autumn\"\n",
    "else:\n",
    "    season = \"winter\"\n",
    "\n",
    "# Print the season\n",
    "print(\"The season is:\", season)\n"
   ]
  },
  {
   "cell_type": "code",
   "execution_count": 63,
   "id": "1f3ebe4e-f822-45f8-bfcc-a4988eb5b38f",
   "metadata": {},
   "outputs": [],
   "source": [
    "## Solution - 30"
   ]
  },
  {
   "cell_type": "code",
   "execution_count": 64,
   "id": "7ca3f56b-8385-4c61-beff-098a2821b026",
   "metadata": {},
   "outputs": [
    {
     "name": "stdin",
     "output_type": "stream",
     "text": [
      "Enter the year:  2024\n",
      "Enter the month (1-12):  6\n"
     ]
    },
    {
     "name": "stdout",
     "output_type": "stream",
     "text": [
      "The year is a leap year and the month has 30 days.\n"
     ]
    }
   ],
   "source": [
    "# Input the year and month\n",
    "year = int(input(\"Enter the year: \"))\n",
    "month = int(input(\"Enter the month (1-12): \"))\n",
    "\n",
    "# Determine if the year is leap or common\n",
    "if (year % 4 == 0 and year % 100 != 0) or (year % 400 == 0):\n",
    "    year_type = \"leap year\"\n",
    "else:\n",
    "    year_type = \"common year\"\n",
    "\n",
    "# Determine the number of days in the month\n",
    "if month in [1, 3, 5, 7, 8, 10, 12]:\n",
    "    days = 31\n",
    "elif month in [4, 6, 9, 11]:\n",
    "    days = 30\n",
    "else:\n",
    "    if year_type == \"leap year\":\n",
    "        days = 29\n",
    "    else:\n",
    "        days = 28\n",
    "\n",
    "# Print the type of year and number of days in the month\n",
    "print(\"The year is a\", year_type, \"and the month has\", days, \"days.\")\n"
   ]
  },
  {
   "cell_type": "markdown",
   "id": "6faf1ee1-ce52-4e32-8d62-f4e565a5eed6",
   "metadata": {},
   "source": [
    "Basic Level:"
   ]
  },
  {
   "cell_type": "code",
   "execution_count": 65,
   "id": "5f46ba61-6d4d-4342-99dd-3e4f6907ac2e",
   "metadata": {},
   "outputs": [],
   "source": [
    "## Solution - 1"
   ]
  },
  {
   "cell_type": "code",
   "execution_count": 76,
   "id": "f2ba25f9-3120-4d5b-9bb3-d6fd652db561",
   "metadata": {},
   "outputs": [
    {
     "name": "stdin",
     "output_type": "stream",
     "text": [
      "Enter a number:  3\n"
     ]
    },
    {
     "name": "stdout",
     "output_type": "stream",
     "text": [
      "The number is positive.\n"
     ]
    }
   ],
   "source": [
    "# Input the number\n",
    "number = float(input(\"Enter a number: \"))\n",
    "\n",
    "# Check if the number is positive, negative, or zero\n",
    "if number > 0:\n",
    "    print(\"The number is positive.\")\n",
    "elif number < 0:\n",
    "    print(\"The number is negative.\")\n",
    "else:\n",
    "    print(\"The number is zero.\")\n"
   ]
  },
  {
   "cell_type": "code",
   "execution_count": 66,
   "id": "7b073e36-18e6-4b1a-8658-a9161967b998",
   "metadata": {},
   "outputs": [],
   "source": [
    "## Solution - 2"
   ]
  },
  {
   "cell_type": "code",
   "execution_count": 77,
   "id": "dd60b2c6-89fe-4d4d-a967-b794edba3c6c",
   "metadata": {},
   "outputs": [
    {
     "name": "stdin",
     "output_type": "stream",
     "text": [
      "Enter your age:  33\n"
     ]
    },
    {
     "name": "stdout",
     "output_type": "stream",
     "text": [
      "You are eligible to vote.\n"
     ]
    }
   ],
   "source": [
    "# Input the age\n",
    "age = int(input(\"Enter your age: \"))\n",
    "\n",
    "# Check if the person is eligible to vote\n",
    "if age >= 18:\n",
    "    print(\"You are eligible to vote.\")\n",
    "else:\n",
    "    print(\"You are not eligible to vote yet.\")\n"
   ]
  },
  {
   "cell_type": "code",
   "execution_count": 67,
   "id": "2fe27fd0-d854-4ab3-91f9-171f7a815c1b",
   "metadata": {},
   "outputs": [],
   "source": [
    "## Solution - 3"
   ]
  },
  {
   "cell_type": "code",
   "execution_count": 79,
   "id": "64b53484-cd50-4368-bab5-ae452bb86f5f",
   "metadata": {},
   "outputs": [
    {
     "name": "stdin",
     "output_type": "stream",
     "text": [
      "Enter the first number:  22\n",
      "Enter the second number:  33\n"
     ]
    },
    {
     "name": "stdout",
     "output_type": "stream",
     "text": [
      "The maximum number is: 33.0\n"
     ]
    }
   ],
   "source": [
    "#### Input two numbers\n",
    "a = float(input(\"Enter the first number: \"))\n",
    "b = float(input(\"Enter the second number: \"))\n",
    "\n",
    "# Find the maximum using conditional statements\n",
    "if a > b:\n",
    "    print(\"The maximum number is:\", a)\n",
    "else:\n",
    "    print(\"The maximum number is:\", b)\n"
   ]
  },
  {
   "cell_type": "code",
   "execution_count": 68,
   "id": "d7bb7b01-99c3-4714-a81d-7ebc268b5a6a",
   "metadata": {},
   "outputs": [],
   "source": [
    "## Solution - 4"
   ]
  },
  {
   "cell_type": "code",
   "execution_count": 80,
   "id": "858fbdfe-421e-47ce-a672-6b24af327cb4",
   "metadata": {},
   "outputs": [
    {
     "name": "stdin",
     "output_type": "stream",
     "text": [
      "Enter the exam score:  66\n"
     ]
    },
    {
     "name": "stdout",
     "output_type": "stream",
     "text": [
      "The grade is: D\n"
     ]
    }
   ],
   "source": [
    "# Input the exam score\n",
    "score = float(input(\"Enter the exam score: \"))\n",
    "\n",
    "# Determine the grade based on the score\n",
    "if score >= 90:\n",
    "    grade = 'A'\n",
    "elif score >= 80:\n",
    "    grade = 'B'\n",
    "elif score >= 70:\n",
    "    grade = 'C'\n",
    "elif score >= 60:\n",
    "    grade = 'D'\n",
    "else:\n",
    "    grade = 'F'\n",
    "\n",
    "# Print the grade\n",
    "print(\"The grade is:\", grade)\n"
   ]
  },
  {
   "cell_type": "code",
   "execution_count": 69,
   "id": "416dee17-16ab-4f9b-88bf-31277cf1b7b6",
   "metadata": {},
   "outputs": [],
   "source": [
    "## Solution - 5"
   ]
  },
  {
   "cell_type": "code",
   "execution_count": 81,
   "id": "9fd3a0c4-5a0a-4ac6-8044-d04dbc47d406",
   "metadata": {},
   "outputs": [
    {
     "name": "stdin",
     "output_type": "stream",
     "text": [
      "Enter a year:  204\n"
     ]
    },
    {
     "name": "stdout",
     "output_type": "stream",
     "text": [
      "The year 204 is a leap year.\n"
     ]
    }
   ],
   "source": [
    "# Input the year\n",
    "year = int(input(\"Enter a year: \"))\n",
    "\n",
    "# Check if the year is a leap year\n",
    "if (year % 4 == 0 and year % 100 != 0) or (year % 400 == 0):\n",
    "    print(\"The year\", year, \"is a leap year.\")\n",
    "else:\n",
    "    print(\"The year\", year, \"is not a leap year.\")\n"
   ]
  },
  {
   "cell_type": "code",
   "execution_count": 70,
   "id": "62dc8111-b04e-431a-bcd9-0c1fc09e5152",
   "metadata": {},
   "outputs": [],
   "source": [
    "## Solution - 6"
   ]
  },
  {
   "cell_type": "code",
   "execution_count": 82,
   "id": "1414f072-f47b-4ac9-ba79-06f7ef9cbcd0",
   "metadata": {},
   "outputs": [
    {
     "name": "stdin",
     "output_type": "stream",
     "text": [
      "Enter the length of side a:  2\n",
      "Enter the length of side b:  4\n",
      "Enter the length of side c:  5\n"
     ]
    },
    {
     "name": "stdout",
     "output_type": "stream",
     "text": [
      "The triangle is scalene.\n"
     ]
    }
   ],
   "source": [
    "# Input the sides of the triangle\n",
    "a = float(input(\"Enter the length of side a: \"))\n",
    "b = float(input(\"Enter the length of side b: \"))\n",
    "c = float(input(\"Enter the length of side c: \"))\n",
    "\n",
    "# Classify the triangle based on its sides' lengths\n",
    "if a == b == c:\n",
    "    print(\"The triangle is equilateral.\")\n",
    "elif a == b or b == c or a == c:\n",
    "    print(\"The triangle is isosceles.\")\n",
    "else:\n",
    "    print(\"The triangle is scalene.\")\n"
   ]
  },
  {
   "cell_type": "code",
   "execution_count": 71,
   "id": "fe3c430d-4b48-4a22-b06d-4beb8138936f",
   "metadata": {},
   "outputs": [],
   "source": [
    "## Solution - 7"
   ]
  },
  {
   "cell_type": "code",
   "execution_count": 83,
   "id": "32de5bb0-7925-4424-8879-52ffa565572e",
   "metadata": {},
   "outputs": [
    {
     "name": "stdin",
     "output_type": "stream",
     "text": [
      "Enter the first number:  77\n",
      "Enter the second number:  67\n",
      "Enter the third number:  45\n"
     ]
    },
    {
     "name": "stdout",
     "output_type": "stream",
     "text": [
      "The largest number is: 77.0\n"
     ]
    }
   ],
   "source": [
    "# Input three numbers\n",
    "a = float(input(\"Enter the first number: \"))\n",
    "b = float(input(\"Enter the second number: \"))\n",
    "c = float(input(\"Enter the third number: \"))\n",
    "\n",
    "# Find the largest number\n",
    "if a >= b and a >= c:\n",
    "    print(\"The largest number is:\", a)\n",
    "elif b >= a and b >= c:\n",
    "    print(\"The largest number is:\", b)\n",
    "else:\n",
    "    print(\"The largest number is:\", c)\n"
   ]
  },
  {
   "cell_type": "code",
   "execution_count": 72,
   "id": "47f14c48-21ae-4fc0-9f7d-ee677aa14bb5",
   "metadata": {},
   "outputs": [],
   "source": [
    "## Solution - 8"
   ]
  },
  {
   "cell_type": "code",
   "execution_count": 84,
   "id": "89c63322-b489-4087-bd9e-59db65dbbb18",
   "metadata": {},
   "outputs": [
    {
     "name": "stdin",
     "output_type": "stream",
     "text": [
      "Enter a character:  ankit\n"
     ]
    },
    {
     "name": "stdout",
     "output_type": "stream",
     "text": [
      "The character is a consonant.\n"
     ]
    }
   ],
   "source": [
    "# Input a character\n",
    "char = input(\"Enter a character: \")\n",
    "\n",
    "# Check if the character is a vowel or a consonant\n",
    "if char.lower() in 'aeiou':\n",
    "    print(\"The character is a vowel.\")\n",
    "else:\n",
    "    print(\"The character is a consonant.\")\n"
   ]
  },
  {
   "cell_type": "code",
   "execution_count": 73,
   "id": "b3552793-00af-4b94-adfd-c83f19ca10ac",
   "metadata": {},
   "outputs": [],
   "source": [
    "## Solution - 9"
   ]
  },
  {
   "cell_type": "code",
   "execution_count": 85,
   "id": "ef835b1b-11f5-4c81-891f-a3596c9d81d2",
   "metadata": {},
   "outputs": [
    {
     "name": "stdin",
     "output_type": "stream",
     "text": [
      "Enter the total cost:  344\n"
     ]
    },
    {
     "name": "stdout",
     "output_type": "stream",
     "text": [
      "The final cost is: 309.6\n"
     ]
    }
   ],
   "source": [
    "# Input the total cost\n",
    "total_cost = float(input(\"Enter the total cost: \"))\n",
    "\n",
    "# Apply discounts based on the total cost\n",
    "if total_cost >= 100:\n",
    "    discount = 0.1\n",
    "elif total_cost >= 50:\n",
    "    discount = 0.05\n",
    "else:\n",
    "    discount = 0\n",
    "\n",
    "# Calculate the final cost after applying the discount\n",
    "final_cost = total_cost - (total_cost * discount)\n",
    "\n",
    "# Print the final cost\n",
    "print(\"The final cost is:\", final_cost)\n"
   ]
  },
  {
   "cell_type": "code",
   "execution_count": 75,
   "id": "bcd43147-8ba0-41e3-acb2-b0a1f7385c51",
   "metadata": {},
   "outputs": [],
   "source": [
    "## Solution - 10"
   ]
  },
  {
   "cell_type": "code",
   "execution_count": 86,
   "id": "a9dcb251-3349-4c82-8607-3225a6fe29fc",
   "metadata": {},
   "outputs": [
    {
     "name": "stdin",
     "output_type": "stream",
     "text": [
      "Enter a number:  23\n"
     ]
    },
    {
     "name": "stdout",
     "output_type": "stream",
     "text": [
      "The number is odd.\n"
     ]
    }
   ],
   "source": [
    "# Input the number\n",
    "number = int(input(\"Enter a number: \"))\n",
    "\n",
    "# Check if the number is even or odd\n",
    "if number % 2 == 0:\n",
    "    print(\"The number is even.\")\n",
    "else:\n",
    "    print(\"The number is odd.\")\n"
   ]
  },
  {
   "cell_type": "markdown",
   "id": "7cd7782b-3263-4c70-9c56-a12ea8097beb",
   "metadata": {},
   "source": [
    "Intermediate Level:"
   ]
  },
  {
   "cell_type": "code",
   "execution_count": 87,
   "id": "837050a9-a09a-4e92-ad7f-b78114cc15b5",
   "metadata": {},
   "outputs": [],
   "source": [
    "## Solution - 11"
   ]
  },
  {
   "cell_type": "code",
   "execution_count": 98,
   "id": "2604ba68-01b2-44ad-bfd6-df79cb1d1293",
   "metadata": {},
   "outputs": [
    {
     "name": "stdin",
     "output_type": "stream",
     "text": [
      "Enter the coefficient of x^2:  3\n",
      "Enter the coefficient of x:  4\n",
      "Enter the constant term:  5\n"
     ]
    },
    {
     "name": "stdout",
     "output_type": "stream",
     "text": [
      "The roots are complex and different.\n",
      "Root 1 = -0.6666666666666666 + 1.1055415967851332 i\n",
      "Root 2 = -0.6666666666666666 - 1.1055415967851332 i\n"
     ]
    }
   ],
   "source": [
    "import math\n",
    "\n",
    "# Input coefficients\n",
    "a = float(input(\"Enter the coefficient of x^2: \"))\n",
    "b = float(input(\"Enter the coefficient of x: \"))\n",
    "c = float(input(\"Enter the constant term: \"))\n",
    "\n",
    "# Calculate the discriminant\n",
    "discriminant = b**2 - 4*a*c\n",
    "\n",
    "# Calculate roots\n",
    "if discriminant > 0:\n",
    "    root1 = (-b + math.sqrt(discriminant)) / (2*a)\n",
    "    root2 = (-b - math.sqrt(discriminant)) / (2*a)\n",
    "    print(\"The roots are real and different.\")\n",
    "    print(\"Root 1 =\", root1)\n",
    "    print(\"Root 2 =\", root2)\n",
    "elif discriminant == 0:\n",
    "    root = -b / (2*a)\n",
    "    print(\"The roots are real and equal.\")\n",
    "    print(\"Root 1 =\", root)\n",
    "else:\n",
    "    real_part = -b / (2*a)\n",
    "    imag_part = math.sqrt(-discriminant) / (2*a)\n",
    "    print(\"The roots are complex and different.\")\n",
    "    print(\"Root 1 =\", real_part, \"+\", imag_part, \"i\")\n",
    "    print(\"Root 2 =\", real_part, \"-\", imag_part, \"i\")\n"
   ]
  },
  {
   "cell_type": "code",
   "execution_count": 88,
   "id": "4f893a87-9130-4b36-bd9d-e32b61f1baa9",
   "metadata": {},
   "outputs": [],
   "source": [
    "## Solution - 12"
   ]
  },
  {
   "cell_type": "code",
   "execution_count": 99,
   "id": "820333c0-c708-4818-a536-21775f657498",
   "metadata": {},
   "outputs": [
    {
     "name": "stdin",
     "output_type": "stream",
     "text": [
      "Enter the day number (1-7):  3\n"
     ]
    },
    {
     "name": "stdout",
     "output_type": "stream",
     "text": [
      "Tuesday\n"
     ]
    }
   ],
   "source": [
    "# Input day number\n",
    "day_number = int(input(\"Enter the day number (1-7): \"))\n",
    "\n",
    "# Determine day of the week\n",
    "if day_number == 1:\n",
    "    print(\"Sunday\")\n",
    "elif day_number == 2:\n",
    "    print(\"Monday\")\n",
    "elif day_number == 3:\n",
    "    print(\"Tuesday\")\n",
    "elif day_number == 4:\n",
    "    print(\"Wednesday\")\n",
    "elif day_number == 5:\n",
    "    print(\"Thursday\")\n",
    "elif day_number == 6:\n",
    "    print(\"Friday\")\n",
    "elif day_number == 7:\n",
    "    print(\"Saturday\")\n",
    "else:\n",
    "    print(\"Invalid day number. Please enter a number between 1 and 7.\")\n"
   ]
  },
  {
   "cell_type": "code",
   "execution_count": 89,
   "id": "ffc394b1-badd-4fae-a941-d4bad573b0a1",
   "metadata": {},
   "outputs": [],
   "source": [
    "## Solution - 13"
   ]
  },
  {
   "cell_type": "code",
   "execution_count": 100,
   "id": "79cefdf2-f684-4ec4-8c76-6e71da73eb7a",
   "metadata": {},
   "outputs": [
    {
     "name": "stdin",
     "output_type": "stream",
     "text": [
      "Enter a number:  12\n"
     ]
    },
    {
     "name": "stdout",
     "output_type": "stream",
     "text": [
      "Factorial of 12 is 479001600\n"
     ]
    }
   ],
   "source": [
    "def factorial(n):\n",
    "    if n == 0:\n",
    "        return 1\n",
    "    else:\n",
    "        return n * factorial(n-1)\n",
    "\n",
    "# Input a number\n",
    "num = int(input(\"Enter a number: \"))\n",
    "\n",
    "# Check if the number is negative\n",
    "if num < 0:\n",
    "    print(\"Factorial is not defined for negative numbers.\")\n",
    "else:\n",
    "    print(\"Factorial of\", num, \"is\", factorial(num))\n"
   ]
  },
  {
   "cell_type": "code",
   "execution_count": 90,
   "id": "63911ade-2840-47f7-a7f6-225b74087970",
   "metadata": {},
   "outputs": [],
   "source": [
    "## Solution - 14"
   ]
  },
  {
   "cell_type": "code",
   "execution_count": 101,
   "id": "a168c524-1937-4fd1-a4bf-71b21b0d5a12",
   "metadata": {},
   "outputs": [
    {
     "name": "stdin",
     "output_type": "stream",
     "text": [
      "Enter the first number:  45\n",
      "Enter the second number:  44\n",
      "Enter the third number:  32\n"
     ]
    },
    {
     "name": "stdout",
     "output_type": "stream",
     "text": [
      "The largest number is: 45.0\n"
     ]
    }
   ],
   "source": [
    "# Input three numbers\n",
    "a = float(input(\"Enter the first number: \"))\n",
    "b = float(input(\"Enter the second number: \"))\n",
    "c = float(input(\"Enter the third number: \"))\n",
    "\n",
    "# Compare numbers to find the largest\n",
    "if a >= b and a >= c:\n",
    "    largest = a\n",
    "elif b >= a and b >= c:\n",
    "    largest = b\n",
    "else:\n",
    "    largest = c\n",
    "\n",
    "print(\"The largest number is:\", largest)\n"
   ]
  },
  {
   "cell_type": "code",
   "execution_count": 91,
   "id": "7c4c9c95-dd80-48c0-a418-0dca686b717a",
   "metadata": {},
   "outputs": [],
   "source": [
    "## Solution - 15"
   ]
  },
  {
   "cell_type": "code",
   "execution_count": 102,
   "id": "2ece6ffa-2a54-46bb-9aa6-2c46e80178c0",
   "metadata": {},
   "outputs": [
    {
     "name": "stdout",
     "output_type": "stream",
     "text": [
      "ATM Menu:\n",
      "1. Check Balance\n",
      "2. Deposit\n",
      "3. Withdraw\n"
     ]
    },
    {
     "name": "stdin",
     "output_type": "stream",
     "text": [
      "Enter your choice (1-3):  2\n",
      "Enter deposit amount:  230000\n"
     ]
    },
    {
     "name": "stdout",
     "output_type": "stream",
     "text": [
      "Deposit of $ 230000.0 successful\n"
     ]
    }
   ],
   "source": [
    "print(\"ATM Menu:\")\n",
    "print(\"1. Check Balance\")\n",
    "print(\"2. Deposit\")\n",
    "print(\"3. Withdraw\")\n",
    "choice = int(input(\"Enter your choice (1-3): \"))\n",
    "\n",
    "if choice == 1:\n",
    "    print(\"Your balance is $1000\")\n",
    "elif choice == 2:\n",
    "    amount = float(input(\"Enter deposit amount: \"))\n",
    "    print(\"Deposit of $\", amount, \"successful\")\n",
    "elif choice == 3:\n",
    "    amount = float(input(\"Enter withdrawal amount: \"))\n",
    "    print(\"Withdrawal of $\", amount, \"successful\")\n",
    "else:\n",
    "    print(\"Invalid choice\")\n"
   ]
  },
  {
   "cell_type": "code",
   "execution_count": 93,
   "id": "90820da8-2336-4c33-9e55-5ae834edc232",
   "metadata": {},
   "outputs": [],
   "source": [
    "## Solution - 16"
   ]
  },
  {
   "cell_type": "code",
   "execution_count": 103,
   "id": "03048a8a-8765-4142-9143-51048573de9c",
   "metadata": {},
   "outputs": [
    {
     "name": "stdin",
     "output_type": "stream",
     "text": [
      "Enter a string:  12\n"
     ]
    },
    {
     "name": "stdout",
     "output_type": "stream",
     "text": [
      "The string is not a palindrome.\n"
     ]
    }
   ],
   "source": [
    "# Input a string\n",
    "string = input(\"Enter a string: \")\n",
    "\n",
    "# Check if the string is a palindrome\n",
    "if string == string[::-1]:\n",
    "    print(\"The string is a palindrome.\")\n",
    "else:\n",
    "    print(\"The string is not a palindrome.\")\n"
   ]
  },
  {
   "cell_type": "code",
   "execution_count": 94,
   "id": "5d73f5dc-f043-4e28-9ed1-e99ae062b8e6",
   "metadata": {},
   "outputs": [],
   "source": [
    "## Solution - 17"
   ]
  },
  {
   "cell_type": "code",
   "execution_count": 104,
   "id": "771efc97-5ed3-4935-9bc8-45d7165fd588",
   "metadata": {},
   "outputs": [
    {
     "name": "stdin",
     "output_type": "stream",
     "text": [
      "Enter a list of numbers separated by spaces:  1 2 4 5 6 7\n"
     ]
    },
    {
     "name": "stdout",
     "output_type": "stream",
     "text": [
      "The average (excluding smallest and largest) is: 4.25\n"
     ]
    }
   ],
   "source": [
    "# Input list of numbers\n",
    "numbers = [float(x) for x in input(\"Enter a list of numbers separated by spaces: \").split()]\n",
    "\n",
    "# Remove smallest and largest values\n",
    "numbers.remove(min(numbers))\n",
    "numbers.remove(max(numbers))\n",
    "\n",
    "# Calculate average\n",
    "average = sum(numbers) / len(numbers)\n",
    "print(\"The average (excluding smallest and largest) is:\", average)\n"
   ]
  },
  {
   "cell_type": "code",
   "execution_count": 95,
   "id": "64a58908-0b02-49d1-8ff0-577f07d433e8",
   "metadata": {},
   "outputs": [],
   "source": [
    "## Solution - 18"
   ]
  },
  {
   "cell_type": "code",
   "execution_count": 105,
   "id": "a5cfed8f-c338-4a6f-9ade-8c4c27874512",
   "metadata": {},
   "outputs": [
    {
     "name": "stdin",
     "output_type": "stream",
     "text": [
      "Enter temperature in Celsius:  34\n"
     ]
    },
    {
     "name": "stdout",
     "output_type": "stream",
     "text": [
      "Temperature in Fahrenheit: 93.2\n"
     ]
    }
   ],
   "source": [
    "# Input temperature in Celsius\n",
    "celsius = float(input(\"Enter temperature in Celsius: \"))\n",
    "\n",
    "# Convert to Fahrenheit\n",
    "fahrenheit = (celsius * 9/5) + 32\n",
    "\n",
    "print(\"Temperature in Fahrenheit:\", fahrenheit)\n"
   ]
  },
  {
   "cell_type": "code",
   "execution_count": 96,
   "id": "1957d01e-3a1e-406b-9961-9ddcab7ab9a1",
   "metadata": {},
   "outputs": [],
   "source": [
    "## Solution - 19"
   ]
  },
  {
   "cell_type": "code",
   "execution_count": 106,
   "id": "462b205b-e642-4061-8887-912c1496fb1d",
   "metadata": {},
   "outputs": [
    {
     "name": "stdin",
     "output_type": "stream",
     "text": [
      "Enter the first number:  2\n",
      "Enter the second number:  3\n"
     ]
    },
    {
     "name": "stdout",
     "output_type": "stream",
     "text": [
      "Select operation:\n",
      "1. Addition\n",
      "2. Subtraction\n",
      "3. Multiplication\n",
      "4. Division\n"
     ]
    },
    {
     "name": "stdin",
     "output_type": "stream",
     "text": [
      "Enter your choice (1-4):  4\n"
     ]
    },
    {
     "name": "stdout",
     "output_type": "stream",
     "text": [
      "Result: 0.6666666666666666\n"
     ]
    }
   ],
   "source": [
    "# Input two numbers\n",
    "a = float(input(\"Enter the first number: \"))\n",
    "b = float(input(\"Enter the second number: \"))\n",
    "\n",
    "# Select operation\n",
    "print(\"Select operation:\")\n",
    "print(\"1. Addition\")\n",
    "print(\"2. Subtraction\")\n",
    "print(\"3. Multiplication\")\n",
    "print(\"4. Division\")\n",
    "choice = int(input(\"Enter your choice (1-4): \"))\n",
    "\n",
    "# Perform selected operation\n",
    "if choice == 1:\n",
    "    result = a + b\n",
    "elif choice == 2:\n",
    "    result = a - b\n",
    "elif choice == 3:\n",
    "    result = a * b\n",
    "elif choice == 4:\n",
    "    result = a / b\n",
    "else:\n",
    "    print(\"Invalid choice\")\n",
    "\n",
    "print(\"Result:\", result)\n"
   ]
  },
  {
   "cell_type": "code",
   "execution_count": 97,
   "id": "be99cecd-5937-4751-969c-7fee06f47d26",
   "metadata": {},
   "outputs": [],
   "source": [
    "## Solution - 20"
   ]
  },
  {
   "cell_type": "code",
   "execution_count": 108,
   "id": "b5691250-91a8-48f1-948e-1143c0512b59",
   "metadata": {},
   "outputs": [
    {
     "name": "stdin",
     "output_type": "stream",
     "text": [
      "Enter the coefficient of x^3:  3\n",
      "Enter the coefficient of x^2:  4\n",
      "Enter the coefficient of x:  5\n",
      "Enter the constant term:  6\n"
     ]
    }
   ],
   "source": [
    "import math\n",
    "\n",
    "# Input coefficients\n",
    "a = float(input(\"Enter the coefficient of x^3: \"))\n",
    "b = float(input(\"Enter the coefficient of x^2: \"))\n",
    "c = float(input(\"Enter the coefficient of x: \"))\n",
    "d = float(input(\"Enter the constant term: \"))\n",
    "\n",
    "# Calculate p, q, and discriminant\n",
    "p = (3*a*c - b**2) / (3*a**2)\n",
    "q = (2*b**3)\n"
   ]
  },
  {
   "cell_type": "markdown",
   "id": "1ee7009f-5d59-4d3c-b87f-89350473a7f3",
   "metadata": {},
   "source": [
    "Advanced Level:"
   ]
  },
  {
   "cell_type": "code",
   "execution_count": 109,
   "id": "64f6d4db-7ad9-473b-a401-bbad1d8d4feb",
   "metadata": {},
   "outputs": [],
   "source": [
    "## Solution - 21"
   ]
  },
  {
   "cell_type": "code",
   "execution_count": 120,
   "id": "dbb6d937-4c7a-4e85-a777-e3bd5e9bf27f",
   "metadata": {},
   "outputs": [
    {
     "name": "stdin",
     "output_type": "stream",
     "text": [
      "Enter your income:  2000\n"
     ]
    },
    {
     "name": "stdout",
     "output_type": "stream",
     "text": [
      "Income tax: 0\n"
     ]
    }
   ],
   "source": [
    "# Input income\n",
    "income = float(input(\"Enter your income: \"))\n",
    "\n",
    "# Calculate income tax based on tax brackets\n",
    "if income <= 10000:\n",
    "    tax = 0\n",
    "elif income <= 40000:\n",
    "    tax = 0.1 * (income - 10000)\n",
    "else:\n",
    "    tax = 0.2 * (income - 40000) + 0.3 * 30000\n",
    "\n",
    "print(\"Income tax:\", tax)\n"
   ]
  },
  {
   "cell_type": "code",
   "execution_count": 110,
   "id": "bec642bf-a4a1-4d56-94e4-16c87f40e1ff",
   "metadata": {},
   "outputs": [],
   "source": [
    "## Solution - 22"
   ]
  },
  {
   "cell_type": "code",
   "execution_count": 121,
   "id": "844caeb2-ca5f-490b-9698-0591900e8232",
   "metadata": {},
   "outputs": [
    {
     "name": "stdin",
     "output_type": "stream",
     "text": [
      "Enter your choice (rock, paper, scissors):  3\n"
     ]
    },
    {
     "name": "stdout",
     "output_type": "stream",
     "text": [
      "Your choice: 3\n",
      "Computer's choice: rock\n",
      "Computer wins!\n"
     ]
    }
   ],
   "source": [
    "import random\n",
    "\n",
    "# User input\n",
    "user_choice = input(\"Enter your choice (rock, paper, scissors): \")\n",
    "\n",
    "# Computer choice\n",
    "choices = [\"rock\", \"paper\", \"scissors\"]\n",
    "computer_choice = random.choice(choices)\n",
    "\n",
    "# Determine the winner\n",
    "if user_choice == computer_choice:\n",
    "    result = \"It's a tie!\"\n",
    "elif (user_choice == \"rock\" and computer_choice == \"scissors\") or \\\n",
    "        (user_choice == \"paper\" and computer_choice == \"rock\") or \\\n",
    "        (user_choice == \"scissors\" and computer_choice == \"paper\"):\n",
    "    result = \"You win!\"\n",
    "else:\n",
    "    result = \"Computer wins!\"\n",
    "\n",
    "print(\"Your choice:\", user_choice)\n",
    "print(\"Computer's choice:\", computer_choice)\n",
    "print(result)\n"
   ]
  },
  {
   "cell_type": "code",
   "execution_count": 111,
   "id": "1e731d50-3f33-4c36-9c7f-c449837b92a5",
   "metadata": {},
   "outputs": [],
   "source": [
    "## Solution - 23"
   ]
  },
  {
   "cell_type": "code",
   "execution_count": 122,
   "id": "f539abf8-56da-4114-bec5-e554ebe497d8",
   "metadata": {},
   "outputs": [
    {
     "name": "stdin",
     "output_type": "stream",
     "text": [
      "Enter the length of the password:  4\n",
      "Enter the complexity (low, medium, high):  low\n"
     ]
    },
    {
     "name": "stdout",
     "output_type": "stream",
     "text": [
      "Generated password: nRYN\n"
     ]
    }
   ],
   "source": [
    "import string\n",
    "import random\n",
    "\n",
    "# User input\n",
    "length = int(input(\"Enter the length of the password: \"))\n",
    "complexity = input(\"Enter the complexity (low, medium, high): \")\n",
    "\n",
    "# Define characters based on complexity\n",
    "if complexity == \"low\":\n",
    "    characters = string.ascii_letters + string.digits\n",
    "elif complexity == \"medium\":\n",
    "    characters = string.ascii_letters + string.digits + string.punctuation\n",
    "else:\n",
    "    characters = string.printable\n",
    "\n",
    "# Generate password\n",
    "password = ''.join(random.choice(characters) for i in range(length))\n",
    "print(\"Generated password:\", password)\n"
   ]
  },
  {
   "cell_type": "code",
   "execution_count": 112,
   "id": "d40e8283-d4aa-4244-8b99-321e91c6e7e8",
   "metadata": {},
   "outputs": [],
   "source": [
    "## Solution - 24"
   ]
  },
  {
   "cell_type": "code",
   "execution_count": 123,
   "id": "2aca2aef-1b0a-4c77-a761-5c392f7fc76d",
   "metadata": {},
   "outputs": [
    {
     "name": "stdout",
     "output_type": "stream",
     "text": [
      "Welcome to the Adventure Game!\n",
      "You are in a forest. You see a path to your left and a cave to your right.\n"
     ]
    },
    {
     "name": "stdin",
     "output_type": "stream",
     "text": [
      "Which way do you want to go? (left or right):  left\n"
     ]
    },
    {
     "name": "stdout",
     "output_type": "stream",
     "text": [
      "You follow the path and find a treasure!\n"
     ]
    }
   ],
   "source": [
    "print(\"Welcome to the Adventure Game!\")\n",
    "\n",
    "print(\"You are in a forest. You see a path to your left and a cave to your right.\")\n",
    "\n",
    "direction = input(\"Which way do you want to go? (left or right): \")\n",
    "\n",
    "if direction == \"left\":\n",
    "    print(\"You follow the path and find a treasure!\")\n",
    "else:\n",
    "    print(\"You enter the cave and encounter a dragon. Game over!\")\n"
   ]
  },
  {
   "cell_type": "code",
   "execution_count": 124,
   "id": "8bdead2a-c919-4315-a36f-c4603a71f752",
   "metadata": {},
   "outputs": [],
   "source": [
    "## Solution - 25"
   ]
  },
  {
   "cell_type": "code",
   "execution_count": 125,
   "id": "653ddb72-5ec1-432a-91bb-94b48b04df8a",
   "metadata": {},
   "outputs": [
    {
     "name": "stdin",
     "output_type": "stream",
     "text": [
      "Enter the coefficient of x:  22\n",
      "Enter the constant term:  23\n"
     ]
    },
    {
     "name": "stdout",
     "output_type": "stream",
     "text": [
      "Solution: -1.0454545454545454\n"
     ]
    }
   ],
   "source": [
    "# Input coefficients\n",
    "a = float(input(\"Enter the coefficient of x: \"))\n",
    "b = float(input(\"Enter the constant term: \"))\n",
    "\n",
    "# Solve equation\n",
    "if a == 0:\n",
    "    if b == 0:\n",
    "        print(\"Infinite solutions (identity equation).\")\n",
    "    else:\n",
    "        print(\"No solution (contradictory equation).\")\n",
    "else:\n",
    "    x = -b / a\n",
    "    print(\"Solution:\", x)\n"
   ]
  },
  {
   "cell_type": "code",
   "execution_count": 114,
   "id": "041244aa-0ed2-4de4-9ed2-e414297d5b64",
   "metadata": {},
   "outputs": [],
   "source": [
    "## Solution - 26"
   ]
  },
  {
   "cell_type": "code",
   "execution_count": 126,
   "id": "0866d6e7-cfeb-490a-9217-b4114fc87d4e",
   "metadata": {},
   "outputs": [
    {
     "name": "stdin",
     "output_type": "stream",
     "text": [
      "What is the capital of France?  a\n",
      "Which planet is known as the Red Planet?  s\n",
      "What is the largest mammal?  d\n"
     ]
    },
    {
     "name": "stdout",
     "output_type": "stream",
     "text": [
      "Your score: 0\n"
     ]
    }
   ],
   "source": [
    "questions = {\n",
    "    \"What is the capital of France?\": \"Paris\",\n",
    "    \"Which planet is known as the Red Planet?\": \"Mars\",\n",
    "    \"What is the largest mammal?\": \"Blue whale\"\n",
    "}\n",
    "\n",
    "score = 0\n",
    "for question, answer in questions.items():\n",
    "    user_answer = input(question + \" \")\n",
    "    if user_answer.lower() == answer.lower():\n",
    "        score += 1\n",
    "\n",
    "print(\"Your score:\", score)\n"
   ]
  },
  {
   "cell_type": "code",
   "execution_count": 115,
   "id": "61a3fb5e-14aa-49a1-b9b2-34676e99de2a",
   "metadata": {},
   "outputs": [],
   "source": [
    "## Solution - 27"
   ]
  },
  {
   "cell_type": "code",
   "execution_count": 127,
   "id": "e670f527-ce9f-48ff-acae-297e3a4609a3",
   "metadata": {},
   "outputs": [
    {
     "name": "stdin",
     "output_type": "stream",
     "text": [
      "Enter a year:  2022\n"
     ]
    },
    {
     "name": "stdout",
     "output_type": "stream",
     "text": [
      "2022 is not a prime number.\n"
     ]
    }
   ],
   "source": [
    "# Input year\n",
    "year = int(input(\"Enter a year: \"))\n",
    "\n",
    "# Check if the year is prime\n",
    "is_prime = True\n",
    "if year > 1:\n",
    "    for i in range(2, year):\n",
    "        if year % i == 0:\n",
    "            is_prime = False\n",
    "            break\n",
    "else:\n",
    "    is_prime = False\n",
    "\n",
    "if is_prime:\n",
    "    print(year, \"is a prime number.\")\n",
    "else:\n",
    "    print(year, \"is not a prime number.\")\n"
   ]
  },
  {
   "cell_type": "code",
   "execution_count": 116,
   "id": "32ef5f65-25da-460a-82ba-0dea5fe48279",
   "metadata": {},
   "outputs": [],
   "source": [
    "## Solution - 28"
   ]
  },
  {
   "cell_type": "code",
   "execution_count": 128,
   "id": "78c25648-840c-4b9a-8e45-ea1bd723974d",
   "metadata": {},
   "outputs": [
    {
     "name": "stdin",
     "output_type": "stream",
     "text": [
      "Enter the first number:  66\n",
      "Enter the second number:  44\n",
      "Enter the third number:  22\n"
     ]
    },
    {
     "name": "stdout",
     "output_type": "stream",
     "text": [
      "Sorted order: 22.0 44.0 66.0\n"
     ]
    }
   ],
   "source": [
    "# Input three numbers\n",
    "a = float(input(\"Enter the first number: \"))\n",
    "b = float(input(\"Enter the second number: \"))\n",
    "c = float(input(\"Enter the third number: \"))\n",
    "\n",
    "# Sort the numbers\n",
    "if a <= b <= c:\n",
    "    print(\"Sorted order:\", a, b, c)\n",
    "elif a <= c <= b:\n",
    "    print(\"Sorted order:\", a, c, b)\n",
    "elif b <= a <= c:\n",
    "    print(\"Sorted order:\", b, a, c)\n",
    "elif b <= c <= a:\n",
    "    print(\"Sorted order:\", b, c, a)\n",
    "elif c <= a <= b:\n",
    "    print(\"Sorted order:\", c, a, b)\n",
    "else:\n",
    "    print(\"Sorted order:\", c, b, a)\n"
   ]
  },
  {
   "cell_type": "code",
   "execution_count": 117,
   "id": "954b6261-e2d2-44c9-88f1-796c7579ef1c",
   "metadata": {},
   "outputs": [],
   "source": [
    "## Solution - 29"
   ]
  },
  {
   "cell_type": "code",
   "execution_count": 130,
   "id": "c7adc858-02d9-4b87-96d7-46ffe16c749f",
   "metadata": {},
   "outputs": [
    {
     "name": "stdout",
     "output_type": "stream",
     "text": [
      "Roots of the quartic equation: [4. 3. 2. 1.]\n"
     ]
    }
   ],
   "source": [
    "# Implement numerical methods to find roots of a quartic equation\n",
    "# This involves a more complex mathematical process and code, and may require additional libraries such as NumPy.\n",
    "# Below is a simplified example for demonstration purposes.\n",
    "\n",
    "# Import necessary libraries\n",
    "import numpy as np\n",
    "\n",
    "# Define the coefficients of the quartic equation\n",
    "coefficients = [1, -10, 35, -50, 24]\n",
    "\n",
    "# Find the roots of the quartic equation\n",
    "roots = np.roots(coefficients)\n",
    "\n",
    "# Print the roots\n",
    "print(\"Roots of the quartic equation:\", roots)\n"
   ]
  },
  {
   "cell_type": "code",
   "execution_count": 119,
   "id": "edffdcf8-c86b-4b78-bbab-0919f8e2dbe3",
   "metadata": {},
   "outputs": [],
   "source": [
    "## Solution - 30"
   ]
  },
  {
   "cell_type": "code",
   "execution_count": 131,
   "id": "efa9ba96-cf0f-4c31-9996-87d18516fc2d",
   "metadata": {},
   "outputs": [
    {
     "name": "stdin",
     "output_type": "stream",
     "text": [
      "Enter your height in meters:  1.96\n",
      "Enter your weight in kilograms:  77\n"
     ]
    },
    {
     "name": "stdout",
     "output_type": "stream",
     "text": [
      "Your BMI is 20.04373177842566 which is normal.\n",
      "Recommendations: Maintain a healthy lifestyle.\n"
     ]
    }
   ],
   "source": [
    "# Input height and weight\n",
    "height = float(input(\"Enter your height in meters: \"))\n",
    "weight = float(input(\"Enter your weight in kilograms: \"))\n",
    "\n",
    "# Calculate BMI\n",
    "bmi = weight / (height ** 2)\n",
    "\n",
    "# Provide health recommendations based on BMI\n",
    "if bmi < 18.5:\n",
    "    print(\"Your BMI is\", bmi, \"which is underweight.\")\n",
    "    print(\"Recommendations: Eat a balanced diet and exercise regularly.\")\n",
    "elif 18.5 <= bmi < 25:\n",
    "    print(\"Your BMI is\", bmi, \"which is normal.\")\n",
    "    print(\"Recommendations: Maintain a healthy lifestyle.\")\n",
    "elif 25 <= bmi < 30:\n",
    "    print(\"Your BMI is\", bmi, \"which is overweight.\")\n",
    "    print(\"Recommendations: Exercise regularly and eat a balanced diet.\")\n",
    "else:\n",
    "    print(\"Your BMI is\", bmi, \"which is obese.\")\n",
    "    print(\"Recommendations: Consult a healthcare professional for guidance.\")\n"
   ]
  },
  {
   "cell_type": "markdown",
   "id": "2b8b84b4-0824-43bd-83d6-d93ed8392ccb",
   "metadata": {},
   "source": [
    "Challenge Level:"
   ]
  },
  {
   "cell_type": "code",
   "execution_count": 132,
   "id": "c45af341-2d06-474e-8a07-0ae0e07f52b4",
   "metadata": {},
   "outputs": [],
   "source": [
    "## Solution - 31"
   ]
  },
  {
   "cell_type": "code",
   "execution_count": 145,
   "id": "98091df2-7bdc-4eef-9009-87f22bd3dc0b",
   "metadata": {},
   "outputs": [
    {
     "name": "stdin",
     "output_type": "stream",
     "text": [
      "Enter your password:  anki12358955\n"
     ]
    },
    {
     "name": "stdout",
     "output_type": "stream",
     "text": [
      "Password must contain at least one uppercase letter\n",
      "Password must contain at least one special character\n"
     ]
    }
   ],
   "source": [
    "# Complexity rules\n",
    "min_length = 8\n",
    "requires_upper = True\n",
    "requires_lower = True\n",
    "requires_digit = True\n",
    "requires_special = True\n",
    "\n",
    "# User input\n",
    "password = input(\"Enter your password: \")\n",
    "\n",
    "# Check length\n",
    "if len(password) < min_length:\n",
    "    print(\"Password must be at least {} characters long\".format(min_length))\n",
    "else:\n",
    "    # Check character requirements\n",
    "    if requires_upper and not any(char.isupper() for char in password):\n",
    "        print(\"Password must contain at least one uppercase letter\")\n",
    "    if requires_lower and not any(char.islower() for char in password):\n",
    "        print(\"Password must contain at least one lowercase letter\")\n",
    "    if requires_digit and not any(char.isdigit() for char in password):\n",
    "        print(\"Password must contain at least one digit\")\n",
    "    if requires_special and not any(not char.isalnum() for char in password):\n",
    "        print(\"Password must contain at least one special character\")\n"
   ]
  },
  {
   "cell_type": "code",
   "execution_count": 144,
   "id": "a19d9685-a135-446e-bae5-f829eb76744b",
   "metadata": {},
   "outputs": [],
   "source": [
    "## Solution - 32"
   ]
  },
  {
   "cell_type": "code",
   "execution_count": 147,
   "id": "03b95458-b996-460a-96bf-a5f729e72bdd",
   "metadata": {},
   "outputs": [
    {
     "name": "stdin",
     "output_type": "stream",
     "text": [
      "Enter the number of rows:  2\n",
      "Enter the number of columns:  2\n"
     ]
    },
    {
     "name": "stdout",
     "output_type": "stream",
     "text": [
      "Enter the elements of the first matrix:\n"
     ]
    },
    {
     "name": "stdin",
     "output_type": "stream",
     "text": [
      "Enter element [0, 0]:  12\n",
      "Enter element [0, 1]:  34\n",
      "Enter element [1, 0]:  56\n",
      "Enter element [1, 1]:  67\n"
     ]
    },
    {
     "name": "stdout",
     "output_type": "stream",
     "text": [
      "Enter the elements of the second matrix:\n"
     ]
    },
    {
     "name": "stdin",
     "output_type": "stream",
     "text": [
      "Enter element [0, 0]:  22\n",
      "Enter element [0, 1]:  33\n",
      "Enter element [1, 0]:  44\n",
      "Enter element [1, 1]:  11\n"
     ]
    },
    {
     "name": "stdout",
     "output_type": "stream",
     "text": [
      "Addition Result:\n",
      "[34, 67]\n",
      "[100, 78]\n",
      "Subtraction Result:\n",
      "[-10, 1]\n",
      "[12, 56]\n"
     ]
    }
   ],
   "source": [
    "# User input for matrix size\n",
    "rows = int(input(\"Enter the number of rows: \"))\n",
    "cols = int(input(\"Enter the number of columns: \"))\n",
    "\n",
    "# Initialize matrices\n",
    "matrix1 = []\n",
    "matrix2 = []\n",
    "\n",
    "# Input for the first matrix\n",
    "print(\"Enter the elements of the first matrix:\")\n",
    "for i in range(rows):\n",
    "    row = []\n",
    "    for j in range(cols):\n",
    "        element = int(input(\"Enter element [{}, {}]: \".format(i, j)))\n",
    "        row.append(element)\n",
    "    matrix1.append(row)\n",
    "\n",
    "# Input for the second matrix\n",
    "print(\"Enter the elements of the second matrix:\")\n",
    "for i in range(rows):\n",
    "    row = []\n",
    "    for j in range(cols):\n",
    "        element = int(input(\"Enter element [{}, {}]: \".format(i, j)))\n",
    "        row.append(element)\n",
    "    matrix2.append(row)\n",
    "\n",
    "# Addition\n",
    "addition_result = [[matrix1[i][j] + matrix2[i][j] for j in range(cols)] for i in range(rows)]\n",
    "print(\"Addition Result:\")\n",
    "for row in addition_result:\n",
    "    print(row)\n",
    "\n",
    "# Subtraction\n",
    "subtraction_result = [[matrix1[i][j] - matrix2[i][j] for j in range(cols)] for i in range(rows)]\n",
    "print(\"Subtraction Result:\")\n",
    "for row in subtraction_result:\n",
    "    print(row)\n"
   ]
  },
  {
   "cell_type": "code",
   "execution_count": 137,
   "id": "14c3456a-876e-42e7-a614-acbacf519902",
   "metadata": {},
   "outputs": [],
   "source": [
    "## Solution - 33"
   ]
  },
  {
   "cell_type": "code",
   "execution_count": 149,
   "id": "db77214d-1c8e-4388-a623-2f5013cb7ab8",
   "metadata": {},
   "outputs": [
    {
     "name": "stdin",
     "output_type": "stream",
     "text": [
      "Enter first number:  55\n",
      "Enter second number:  4\n"
     ]
    },
    {
     "name": "stdout",
     "output_type": "stream",
     "text": [
      "GCD: 1\n"
     ]
    }
   ],
   "source": [
    "## User input for two numbers\n",
    "num1 = int(input(\"Enter first number: \"))\n",
    "num2 = int(input(\"Enter second number: \"))\n",
    "\n",
    "# Euclidean algorithm\n",
    "while num2:\n",
    "    num1, num2 = num2, num1 % num2\n",
    "\n",
    "print(\"GCD:\", num1)\n"
   ]
  },
  {
   "cell_type": "code",
   "execution_count": 138,
   "id": "c5985ea2-d5e3-4822-af7c-7009e5d987cb",
   "metadata": {},
   "outputs": [],
   "source": [
    "## Solution - 34"
   ]
  },
  {
   "cell_type": "code",
   "execution_count": 151,
   "id": "07dcc9a3-d133-433c-a00d-df65e5e245e5",
   "metadata": {},
   "outputs": [
    {
     "name": "stdin",
     "output_type": "stream",
     "text": [
      "Enter the number of rows for matrix 1:  1\n",
      "Enter the number of columns for matrix 1:  1\n",
      "Enter the number of rows for matrix 2:  2\n",
      "Enter the number of columns for matrix 2:  2\n"
     ]
    },
    {
     "name": "stdout",
     "output_type": "stream",
     "text": [
      "Matrices cannot be multiplied\n"
     ]
    }
   ],
   "source": [
    "#### User input for matrix size\n",
    "rows1 = int(input(\"Enter the number of rows for matrix 1: \"))\n",
    "cols1 = int(input(\"Enter the number of columns for matrix 1: \"))\n",
    "rows2 = int(input(\"Enter the number of rows for matrix 2: \"))\n",
    "cols2 = int(input(\"Enter the number of columns for matrix 2: \"))\n",
    "\n",
    "# Check if matrices can be multiplied\n",
    "if cols1 != rows2:\n",
    "    print(\"Matrices cannot be multiplied\")\n",
    "else:\n",
    "    # Input for the matrices\n",
    "    print(\"Enter the elements of matrix 1:\")\n",
    "    matrix1 = [[int(input(\"Enter element [{}, {}]: \".format(i, j))) for j in range(cols1)] for i in range(rows1)]\n",
    "\n",
    "    print(\"Enter the elements of matrix 2:\")\n",
    "    matrix2 = [[int(input(\"Enter element [{}, {}]: \".format(i, j))) for j in range(cols2)] for i in range(rows2)]\n",
    "\n",
    "    # Multiplication\n",
    "    result = [[sum(matrix1[i][k] * matrix2[k][j] for k in range(cols1)) for j in range(cols2)] for i in range(rows1)]\n",
    "\n",
    "    print(\"Multiplication Result:\")\n",
    "    for row in result:\n",
    "        print(row)\n"
   ]
  },
  {
   "cell_type": "code",
   "execution_count": 139,
   "id": "39621ae2-3831-42c6-8bce-5558a413d5f0",
   "metadata": {},
   "outputs": [],
   "source": [
    "## Solution - 35"
   ]
  },
  {
   "cell_type": "code",
   "execution_count": 152,
   "id": "51e29e7c-4786-48fc-9844-0afd5a4bb581",
   "metadata": {},
   "outputs": [],
   "source": [
    "import random\n",
    "\n",
    "def print_board(board):\n",
    "    for row in board:\n",
    "        print(\" | \".join(row))\n",
    "        print(\"-\" * 5)\n",
    "\n",
    "def check_winner(board, player):\n",
    "    for row in board:\n",
    "        if all(cell == player for cell in row):\n",
    "            return True\n",
    "    for col in range(3):\n",
    "        if all(board[row][col] == player for row in range(3)):\n",
    "            return True\n",
    "    if all(board[i][i] == player for i in range(3)) or all(board[i][2 - i] == player for i in range(3)):\n",
    "        return True\n",
    "    return False\n",
    "\n",
    "def computer_move(board, computer_char, player_char):\n",
    "    for i in range(3):\n",
    "        for j in range(3):\n",
    "            if board[i][j] == ' ':\n",
    "                board[i][j] = computer_char\n",
    "                if check_winner(board, computer_char):\n",
    "                    return \"Computer wins!\"\n",
    "                board[i][j] = ' '\n",
    "    for i in range(3):\n",
    "        for j in range(3):\n",
    "            if board[i][j] == ' ':\n",
    "                board[i][j] = player_char\n",
    "                if check_winner(board, player_char):\n",
    "                    board[i][j] = computer_char\n",
    "                    return\n",
    "                board[i][j] = ' '\n",
    "    while True:\n",
    "        row = random.randint(0, 2)\n",
    "        col = random.randint(0, 2)\n",
    "        if board[row][col] == ' ':\n",
    "            board[row][col] = computer_char\n",
    "            break\n",
    "\n",
    "def play_tic_tac_toe():\n",
    "    board = [[' ' for _ in range(3)] for _ in range(3)]\n",
    "    players = ['X', 'O']\n",
    "    player_char = random.choice(players)\n",
    "    computer_char = 'X' if player_char == 'O' else 'O'\n",
    "\n",
    "    print(\"Welcome to Tic-Tac-Toe!\")\n",
    "    print_board(board)\n",
    "\n",
    "    for _ in range(9):\n",
    "        if player_char == 'X':\n",
    "            row = int(input(\"Enter row (0-2): \"))\n",
    "            col = int(input(\"Enter column (0-2): \"))\n",
    "            if board[row][col] != ' ':\n",
    "                print(\"Invalid move, try again.\")\n",
    "                continue\n",
    "            board[row][col] = player_char\n",
    "     \n"
   ]
  },
  {
   "cell_type": "code",
   "execution_count": 140,
   "id": "4581836f-344f-412e-851d-ed3049981ab5",
   "metadata": {},
   "outputs": [],
   "source": [
    "## Solution - 36"
   ]
  },
  {
   "cell_type": "code",
   "execution_count": 153,
   "id": "f183d5b5-42e2-44ec-bf04-8acab31f65d6",
   "metadata": {},
   "outputs": [
    {
     "name": "stdin",
     "output_type": "stream",
     "text": [
      "Enter the number of terms for Fibonacci sequence:  3\n"
     ]
    },
    {
     "name": "stdout",
     "output_type": "stream",
     "text": [
      "[0, 1, 1]\n"
     ]
    }
   ],
   "source": [
    "def fibonacci_iterative(n):\n",
    "    if n <= 0:\n",
    "        return []\n",
    "    elif n == 1:\n",
    "        return [0]\n",
    "    elif n == 2:\n",
    "        return [0, 1]\n",
    "    \n",
    "    fib_sequence = [0, 1]\n",
    "    for _ in range(2, n):\n",
    "        fib_sequence.append(fib_sequence[-1] + fib_sequence[-2])\n",
    "    \n",
    "    return fib_sequence\n",
    "\n",
    "n = int(input(\"Enter the number of terms for Fibonacci sequence: \"))\n",
    "fib_sequence = fibonacci_iterative(n)\n",
    "print(fib_sequence)\n"
   ]
  },
  {
   "cell_type": "code",
   "execution_count": 141,
   "id": "6948f67c-13ac-401c-9140-3fd77f4c546f",
   "metadata": {},
   "outputs": [],
   "source": [
    "## Solution - 37"
   ]
  },
  {
   "cell_type": "code",
   "execution_count": 154,
   "id": "57886600-8725-40de-a62f-16ed1c2810b7",
   "metadata": {},
   "outputs": [
    {
     "name": "stdin",
     "output_type": "stream",
     "text": [
      "Enter the value of n for Fibonacci sequence:  35\n"
     ]
    },
    {
     "name": "stdout",
     "output_type": "stream",
     "text": [
      "The Fibonacci value at position 35 is: 9227465\n"
     ]
    }
   ],
   "source": [
    "def fibonacci_memoization(n, memo={}):\n",
    "    if n in memo:\n",
    "        return memo[n]\n",
    "    if n <= 0:\n",
    "        return 0\n",
    "    if n == 1:\n",
    "        return 1\n",
    "    memo[n] = fibonacci_memoization(n - 1, memo) + fibonacci_memoization(n - 2, memo)\n",
    "    return memo[n]\n",
    "\n",
    "n = int(input(\"Enter the value of n for Fibonacci sequence: \"))\n",
    "fib_value = fibonacci_memoization(n)\n",
    "print(\"The Fibonacci value at position\", n, \"is:\", fib_value)\n"
   ]
  },
  {
   "cell_type": "code",
   "execution_count": 158,
   "id": "e4b00c5a-c110-4c3c-91f4-9ec0f6fc1aee",
   "metadata": {},
   "outputs": [],
   "source": [
    "## Solution - 38"
   ]
  },
  {
   "cell_type": "code",
   "execution_count": 160,
   "id": "fa90b394-026a-49fe-8fcb-cee963dacdba",
   "metadata": {},
   "outputs": [
    {
     "name": "stdin",
     "output_type": "stream",
     "text": [
      "Enter year:  2033\n",
      "Enter month:  4\n"
     ]
    },
    {
     "name": "stdout",
     "output_type": "stream",
     "text": [
      "     April 2033\n",
      "Mo Tu We Th Fr Sa Su\n",
      "             1  2  3\n",
      " 4  5  6  7  8  9 10\n",
      "11 12 13 14 15 16 17\n",
      "18 19 20 21 22 23 24\n",
      "25 26 27 28 29 30\n",
      "\n"
     ]
    }
   ],
   "source": [
    "import calendar\n",
    "\n",
    "year = int(input(\"Enter year: \"))\n",
    "month = int(input(\"Enter month: \"))\n",
    "\n",
    "# Print calendar\n",
    "print(calendar.month(year, month))\n"
   ]
  },
  {
   "cell_type": "code",
   "execution_count": 157,
   "id": "f2214392-503a-4080-868b-cb9b3c481efb",
   "metadata": {},
   "outputs": [],
   "source": [
    "## Solution - 39"
   ]
  },
  {
   "cell_type": "code",
   "execution_count": 161,
   "id": "97574a64-c56b-4a4a-a059-f5b148c1fb93",
   "metadata": {},
   "outputs": [
    {
     "name": "stdout",
     "output_type": "stream",
     "text": [
      "Your's hand:\n",
      "King of Hearts\n",
      "Jack of Spades\n",
      "Total: 20\n"
     ]
    },
    {
     "name": "stdin",
     "output_type": "stream",
     "text": [
      "Do you want to (h)it or (s)tand?  s\n"
     ]
    },
    {
     "name": "stdout",
     "output_type": "stream",
     "text": [
      "\n",
      "Final hands:\n",
      "Your's hand:\n",
      "King of Hearts\n",
      "Jack of Spades\n",
      "Total: 20\n",
      "Computer's's hand:\n",
      "3 of Hearts\n",
      "Ace of Hearts\n",
      "8 of Clubs\n",
      "2 of Spades\n",
      "9 of Clubs\n",
      "Total: 23\n",
      "You win!\n"
     ]
    }
   ],
   "source": [
    "import random\n",
    "\n",
    "def generate_deck():\n",
    "    suits = ['Hearts', 'Diamonds', 'Clubs', 'Spades']\n",
    "    values = ['2', '3', '4', '5', '6', '7', '8', '9', '10', 'Jack', 'Queen', 'King', 'Ace']\n",
    "    deck = [(value, suit) for suit in suits for value in values]\n",
    "    random.shuffle(deck)\n",
    "    return deck\n",
    "\n",
    "def card_value(card):\n",
    "    value, suit = card\n",
    "    if value in ['Jack', 'Queen', 'King']:\n",
    "        return 10\n",
    "    elif value == 'Ace':\n",
    "        return 11\n",
    "    else:\n",
    "        return int(value)\n",
    "\n",
    "def display_hand(player, hand):\n",
    "    print(\"{}'s hand:\".format(player))\n",
    "    for card in hand:\n",
    "        print(card[0], \"of\", card[1])\n",
    "    print(\"Total:\", calculate_hand_value(hand))\n",
    "\n",
    "def calculate_hand_value(hand):\n",
    "    value = sum(card_value(card) for card in hand)\n",
    "    num_aces = sum(1 for card in hand if card[0] == 'Ace')\n",
    "    while value > 21 and num_aces:\n",
    "        value -= 10\n",
    "        num_aces -= 1\n",
    "    return value\n",
    "\n",
    "def play_blackjack():\n",
    "    deck = generate_deck()\n",
    "    player_hand = [deck.pop(), deck.pop()]\n",
    "    computer_hand = [deck.pop(), deck.pop()]\n",
    "    \n",
    "    while True:\n",
    "        display_hand(\"Your\", player_hand)\n",
    "        if calculate_hand_value(player_hand) == 21:\n",
    "            print(\"Blackjack! You win!\")\n",
    "            return\n",
    "        \n",
    "        action = input(\"Do you want to (h)it or (s)tand? \")\n",
    "        if action.lower() == 'h':\n",
    "            player_hand.append(deck.pop())\n",
    "            if calculate_hand_value(player_hand) > 21:\n",
    "                display_hand(\"Your\", player_hand)\n",
    "                print(\"Bust! You lose.\")\n",
    "                return\n",
    "        else:\n",
    "            break\n",
    "    \n",
    "    while calculate_hand_value(computer_hand) < 17:\n",
    "        computer_hand.append(deck.pop())\n",
    "    \n",
    "    print(\"\\nFinal hands:\")\n",
    "    display_hand(\"Your\", player_hand)\n",
    "    display_hand(\"Computer's\", computer_hand)\n",
    "    \n",
    "    player_value = calculate_hand_value(player_hand)\n",
    "    computer_value = calculate_hand_value(computer_hand)\n",
    "    \n",
    "    if player_value > computer_value or computer_value > 21:\n",
    "        print(\"You win!\")\n",
    "    elif player_value < computer_value:\n",
    "        print(\"Computer wins.\")\n",
    "    else:\n",
    "        print(\"It's a tie!\")\n",
    "\n",
    "play_blackjack()\n"
   ]
  },
  {
   "cell_type": "code",
   "execution_count": 159,
   "id": "2dc89dd3-52a0-4c8a-8280-d8c4d55f9e17",
   "metadata": {},
   "outputs": [],
   "source": [
    "## Solution - 40"
   ]
  },
  {
   "cell_type": "code",
   "execution_count": 162,
   "id": "476c41f1-9be4-4d56-a387-4975f2af067e",
   "metadata": {},
   "outputs": [
    {
     "name": "stdin",
     "output_type": "stream",
     "text": [
      "Enter a number:  3\n"
     ]
    },
    {
     "name": "stdout",
     "output_type": "stream",
     "text": [
      "Prime factors: [3]\n"
     ]
    }
   ],
   "source": [
    "def prime_factors(n):\n",
    "    factors = []\n",
    "    divisor = 2\n",
    "    while divisor <= n:\n",
    "        if n % divisor == 0:\n",
    "            factors.append(divisor)\n",
    "            n = n // divisor\n",
    "        else:\n",
    "            divisor += 1\n",
    "    return factors\n",
    "\n",
    "num = int(input(\"Enter a number: \"))\n",
    "print(\"Prime factors:\", prime_factors(num))\n"
   ]
  },
  {
   "cell_type": "code",
   "execution_count": null,
   "id": "2b1505ef-b6b2-4666-ae25-72cd2c333dd4",
   "metadata": {},
   "outputs": [],
   "source": []
  }
 ],
 "metadata": {
  "kernelspec": {
   "display_name": "Python 3 (ipykernel)",
   "language": "python",
   "name": "python3"
  },
  "language_info": {
   "codemirror_mode": {
    "name": "ipython",
    "version": 3
   },
   "file_extension": ".py",
   "mimetype": "text/x-python",
   "name": "python",
   "nbconvert_exporter": "python",
   "pygments_lexer": "ipython3",
   "version": "3.10.8"
  }
 },
 "nbformat": 4,
 "nbformat_minor": 5
}
